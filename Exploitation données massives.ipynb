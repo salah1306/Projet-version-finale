{
 "cells": [
  {
   "cell_type": "markdown",
   "id": "31d5822b",
   "metadata": {},
   "source": [
    "# <center><u>Exploitation des données massives en finance"
   ]
  },
  {
   "cell_type": "markdown",
   "id": "03b90b70",
   "metadata": {},
   "source": [
    "### <u>1) Importation des données<u>"
   ]
  },
  {
   "cell_type": "code",
   "execution_count": 142,
   "id": "0c562390",
   "metadata": {},
   "outputs": [],
   "source": [
    "# Chargement des packages utiles\n",
    "import requests as rq\n",
    "from bs4 import BeautifulSoup as bs\n",
    "import json\n",
    "import datetime as dt\n",
    "import pandas as pd\n",
    "import numpy as np\n",
    "import seaborn as sns\n",
    "from io import StringIO\n",
    "import matplotlib.pyplot as plt\n",
    "from sklearn.model_selection import train_test_split\n",
    "from sklearn.preprocessing import StandardScaler\n",
    "from mlxtend.plotting import scatterplotmatrix\n",
    "from mlxtend.plotting import heatmap\n",
    "from sklearn.neighbors import KNeighborsClassifier\n",
    "from sklearn.model_selection import cross_val_score\n",
    "from sklearn.naive_bayes import GaussianNB\n",
    "from sklearn.svm import SVC\n",
    "from sklearn.ensemble import RandomForestClassifier\n",
    "from sklearn.metrics import plot_roc_curve\n",
    "from sklearn.metrics import accuracy_score, classification_report\n",
    "from sklearn.metrics import confusion_matrix\n",
    "from sklearn.metrics import roc_curve, auc\n",
    "from sklearn.metrics import roc_auc_score\n",
    "from sklearn.metrics import precision_recall_curve\n",
    "from sklearn.linear_model import Lasso\n",
    "from sklearn.metrics import mean_squared_error, r2_score,mean_absolute_percentage_error\n",
    "from sklearn.ensemble import RandomForestRegressor"
   ]
  },
  {
   "cell_type": "markdown",
   "id": "21a79e51",
   "metadata": {},
   "source": [
    "#### 1.1) Inflation"
   ]
  },
  {
   "cell_type": "code",
   "execution_count": 143,
   "id": "df7fcc8e",
   "metadata": {},
   "outputs": [
    {
     "name": "stdout",
     "output_type": "stream",
     "text": [
      "       timestamp    value\n",
      "0     2022-12-01  296.797\n",
      "1     2022-11-01  297.711\n",
      "2     2022-10-01  298.012\n",
      "3     2022-09-01  296.808\n",
      "4     2022-08-01  296.171\n",
      "...          ...      ...\n",
      "1315  1913-05-01    9.700\n",
      "1316  1913-04-01    9.800\n",
      "1317  1913-03-01    9.800\n",
      "1318  1913-02-01    9.800\n",
      "1319  1913-01-01    9.800\n",
      "\n",
      "[1320 rows x 2 columns]\n"
     ]
    }
   ],
   "source": [
    "#importation données CPI\n",
    "\n",
    "headers = {\"User-Agent\" : \"Mozilla/5.0 (Windows NT 10.0; Win64; x64; rv:81.0) Gecko/20100101 Firefox/81.0\"}\n",
    "\n",
    "API_KEY = \"NOBHHHGB358UPAWJ\"\n",
    "\n",
    "symbol = \"CPI\"\n",
    "\n",
    "interval = \"monthly\"\n",
    "output_type = \"csv\"\n",
    "\n",
    "url = \"https://www.alphavantage.co/query?function=CPI&symbol=%s&interval=%s&apikey=%s&datatype=%s&outputsize=full\" % (symbol, interval, API_KEY, \n",
    "                                                                                                          output_type)\n",
    "\n",
    "resp = rq.get(url).text\n",
    "\n",
    "str_io = StringIO(resp)\n",
    "\n",
    "data_CPI = pd.read_csv(str_io, sep=\",\")\n",
    "print (data_CPI)"
   ]
  },
  {
   "cell_type": "code",
   "execution_count": 144,
   "id": "417ff34b",
   "metadata": {},
   "outputs": [
    {
     "data": {
      "text/html": [
       "<div>\n",
       "<style scoped>\n",
       "    .dataframe tbody tr th:only-of-type {\n",
       "        vertical-align: middle;\n",
       "    }\n",
       "\n",
       "    .dataframe tbody tr th {\n",
       "        vertical-align: top;\n",
       "    }\n",
       "\n",
       "    .dataframe thead th {\n",
       "        text-align: right;\n",
       "    }\n",
       "</style>\n",
       "<table border=\"1\" class=\"dataframe\">\n",
       "  <thead>\n",
       "    <tr style=\"text-align: right;\">\n",
       "      <th></th>\n",
       "      <th>timestamp</th>\n",
       "      <th>value</th>\n",
       "    </tr>\n",
       "  </thead>\n",
       "  <tbody>\n",
       "    <tr>\n",
       "      <th>1319</th>\n",
       "      <td>1913-01-01</td>\n",
       "      <td>9.800</td>\n",
       "    </tr>\n",
       "    <tr>\n",
       "      <th>1318</th>\n",
       "      <td>1913-02-01</td>\n",
       "      <td>9.800</td>\n",
       "    </tr>\n",
       "    <tr>\n",
       "      <th>1317</th>\n",
       "      <td>1913-03-01</td>\n",
       "      <td>9.800</td>\n",
       "    </tr>\n",
       "    <tr>\n",
       "      <th>1316</th>\n",
       "      <td>1913-04-01</td>\n",
       "      <td>9.800</td>\n",
       "    </tr>\n",
       "    <tr>\n",
       "      <th>1315</th>\n",
       "      <td>1913-05-01</td>\n",
       "      <td>9.700</td>\n",
       "    </tr>\n",
       "    <tr>\n",
       "      <th>...</th>\n",
       "      <td>...</td>\n",
       "      <td>...</td>\n",
       "    </tr>\n",
       "    <tr>\n",
       "      <th>4</th>\n",
       "      <td>2022-08-01</td>\n",
       "      <td>296.171</td>\n",
       "    </tr>\n",
       "    <tr>\n",
       "      <th>3</th>\n",
       "      <td>2022-09-01</td>\n",
       "      <td>296.808</td>\n",
       "    </tr>\n",
       "    <tr>\n",
       "      <th>2</th>\n",
       "      <td>2022-10-01</td>\n",
       "      <td>298.012</td>\n",
       "    </tr>\n",
       "    <tr>\n",
       "      <th>1</th>\n",
       "      <td>2022-11-01</td>\n",
       "      <td>297.711</td>\n",
       "    </tr>\n",
       "    <tr>\n",
       "      <th>0</th>\n",
       "      <td>2022-12-01</td>\n",
       "      <td>296.797</td>\n",
       "    </tr>\n",
       "  </tbody>\n",
       "</table>\n",
       "<p>1320 rows × 2 columns</p>\n",
       "</div>"
      ],
      "text/plain": [
       "       timestamp    value\n",
       "1319  1913-01-01    9.800\n",
       "1318  1913-02-01    9.800\n",
       "1317  1913-03-01    9.800\n",
       "1316  1913-04-01    9.800\n",
       "1315  1913-05-01    9.700\n",
       "...          ...      ...\n",
       "4     2022-08-01  296.171\n",
       "3     2022-09-01  296.808\n",
       "2     2022-10-01  298.012\n",
       "1     2022-11-01  297.711\n",
       "0     2022-12-01  296.797\n",
       "\n",
       "[1320 rows x 2 columns]"
      ]
     },
     "execution_count": 144,
     "metadata": {},
     "output_type": "execute_result"
    }
   ],
   "source": [
    "data_CPI2 = data_CPI.reindex(index=data_CPI.index[::-1])\n",
    "data_CPI2"
   ]
  },
  {
   "cell_type": "code",
   "execution_count": 145,
   "id": "6dbd4b37",
   "metadata": {},
   "outputs": [
    {
     "data": {
      "text/html": [
       "<div>\n",
       "<style scoped>\n",
       "    .dataframe tbody tr th:only-of-type {\n",
       "        vertical-align: middle;\n",
       "    }\n",
       "\n",
       "    .dataframe tbody tr th {\n",
       "        vertical-align: top;\n",
       "    }\n",
       "\n",
       "    .dataframe thead th {\n",
       "        text-align: right;\n",
       "    }\n",
       "</style>\n",
       "<table border=\"1\" class=\"dataframe\">\n",
       "  <thead>\n",
       "    <tr style=\"text-align: right;\">\n",
       "      <th></th>\n",
       "      <th>Time</th>\n",
       "      <th>Inflation</th>\n",
       "    </tr>\n",
       "  </thead>\n",
       "  <tbody>\n",
       "    <tr>\n",
       "      <th>1319</th>\n",
       "      <td>1913-01-01</td>\n",
       "      <td>NaN</td>\n",
       "    </tr>\n",
       "    <tr>\n",
       "      <th>1318</th>\n",
       "      <td>1913-02-01</td>\n",
       "      <td>0.000000</td>\n",
       "    </tr>\n",
       "    <tr>\n",
       "      <th>1317</th>\n",
       "      <td>1913-03-01</td>\n",
       "      <td>0.000000</td>\n",
       "    </tr>\n",
       "    <tr>\n",
       "      <th>1316</th>\n",
       "      <td>1913-04-01</td>\n",
       "      <td>0.000000</td>\n",
       "    </tr>\n",
       "    <tr>\n",
       "      <th>1315</th>\n",
       "      <td>1913-05-01</td>\n",
       "      <td>-0.010204</td>\n",
       "    </tr>\n",
       "    <tr>\n",
       "      <th>...</th>\n",
       "      <td>...</td>\n",
       "      <td>...</td>\n",
       "    </tr>\n",
       "    <tr>\n",
       "      <th>4</th>\n",
       "      <td>2022-08-01</td>\n",
       "      <td>-0.000354</td>\n",
       "    </tr>\n",
       "    <tr>\n",
       "      <th>3</th>\n",
       "      <td>2022-09-01</td>\n",
       "      <td>0.002151</td>\n",
       "    </tr>\n",
       "    <tr>\n",
       "      <th>2</th>\n",
       "      <td>2022-10-01</td>\n",
       "      <td>0.004056</td>\n",
       "    </tr>\n",
       "    <tr>\n",
       "      <th>1</th>\n",
       "      <td>2022-11-01</td>\n",
       "      <td>-0.001010</td>\n",
       "    </tr>\n",
       "    <tr>\n",
       "      <th>0</th>\n",
       "      <td>2022-12-01</td>\n",
       "      <td>-0.003070</td>\n",
       "    </tr>\n",
       "  </tbody>\n",
       "</table>\n",
       "<p>1320 rows × 2 columns</p>\n",
       "</div>"
      ],
      "text/plain": [
       "            Time  Inflation\n",
       "1319  1913-01-01        NaN\n",
       "1318  1913-02-01   0.000000\n",
       "1317  1913-03-01   0.000000\n",
       "1316  1913-04-01   0.000000\n",
       "1315  1913-05-01  -0.010204\n",
       "...          ...        ...\n",
       "4     2022-08-01  -0.000354\n",
       "3     2022-09-01   0.002151\n",
       "2     2022-10-01   0.004056\n",
       "1     2022-11-01  -0.001010\n",
       "0     2022-12-01  -0.003070\n",
       "\n",
       "[1320 rows x 2 columns]"
      ]
     },
     "execution_count": 145,
     "metadata": {},
     "output_type": "execute_result"
    }
   ],
   "source": [
    "#données inflation\n",
    "\n",
    "def inf(serie):\n",
    "    return ((serie-serie.shift())/serie.shift())\n",
    "\n",
    "data_inflation = pd.DataFrame ({'Time' : data_CPI2['timestamp'], 'Inflation' : inf(data_CPI2['value'])})\n",
    "data_inflation"
   ]
  },
  {
   "cell_type": "code",
   "execution_count": 146,
   "id": "b637ec03",
   "metadata": {},
   "outputs": [
    {
     "data": {
      "text/html": [
       "<div>\n",
       "<style scoped>\n",
       "    .dataframe tbody tr th:only-of-type {\n",
       "        vertical-align: middle;\n",
       "    }\n",
       "\n",
       "    .dataframe tbody tr th {\n",
       "        vertical-align: top;\n",
       "    }\n",
       "\n",
       "    .dataframe thead th {\n",
       "        text-align: right;\n",
       "    }\n",
       "</style>\n",
       "<table border=\"1\" class=\"dataframe\">\n",
       "  <thead>\n",
       "    <tr style=\"text-align: right;\">\n",
       "      <th></th>\n",
       "      <th>Time</th>\n",
       "      <th>Inflation</th>\n",
       "    </tr>\n",
       "  </thead>\n",
       "  <tbody>\n",
       "    <tr>\n",
       "      <th>0</th>\n",
       "      <td>2022-12-01</td>\n",
       "      <td>-0.003070</td>\n",
       "    </tr>\n",
       "    <tr>\n",
       "      <th>1</th>\n",
       "      <td>2022-11-01</td>\n",
       "      <td>-0.001010</td>\n",
       "    </tr>\n",
       "    <tr>\n",
       "      <th>2</th>\n",
       "      <td>2022-10-01</td>\n",
       "      <td>0.004056</td>\n",
       "    </tr>\n",
       "    <tr>\n",
       "      <th>3</th>\n",
       "      <td>2022-09-01</td>\n",
       "      <td>0.002151</td>\n",
       "    </tr>\n",
       "    <tr>\n",
       "      <th>4</th>\n",
       "      <td>2022-08-01</td>\n",
       "      <td>-0.000354</td>\n",
       "    </tr>\n",
       "    <tr>\n",
       "      <th>...</th>\n",
       "      <td>...</td>\n",
       "      <td>...</td>\n",
       "    </tr>\n",
       "    <tr>\n",
       "      <th>1315</th>\n",
       "      <td>1913-05-01</td>\n",
       "      <td>-0.010204</td>\n",
       "    </tr>\n",
       "    <tr>\n",
       "      <th>1316</th>\n",
       "      <td>1913-04-01</td>\n",
       "      <td>0.000000</td>\n",
       "    </tr>\n",
       "    <tr>\n",
       "      <th>1317</th>\n",
       "      <td>1913-03-01</td>\n",
       "      <td>0.000000</td>\n",
       "    </tr>\n",
       "    <tr>\n",
       "      <th>1318</th>\n",
       "      <td>1913-02-01</td>\n",
       "      <td>0.000000</td>\n",
       "    </tr>\n",
       "    <tr>\n",
       "      <th>1319</th>\n",
       "      <td>1913-01-01</td>\n",
       "      <td>NaN</td>\n",
       "    </tr>\n",
       "  </tbody>\n",
       "</table>\n",
       "<p>1320 rows × 2 columns</p>\n",
       "</div>"
      ],
      "text/plain": [
       "            Time  Inflation\n",
       "0     2022-12-01  -0.003070\n",
       "1     2022-11-01  -0.001010\n",
       "2     2022-10-01   0.004056\n",
       "3     2022-09-01   0.002151\n",
       "4     2022-08-01  -0.000354\n",
       "...          ...        ...\n",
       "1315  1913-05-01  -0.010204\n",
       "1316  1913-04-01   0.000000\n",
       "1317  1913-03-01   0.000000\n",
       "1318  1913-02-01   0.000000\n",
       "1319  1913-01-01        NaN\n",
       "\n",
       "[1320 rows x 2 columns]"
      ]
     },
     "execution_count": 146,
     "metadata": {},
     "output_type": "execute_result"
    }
   ],
   "source": [
    "data_inflation2 = data_inflation.reindex(index=data_inflation.index[::-1])\n",
    "data_inflation2"
   ]
  },
  {
   "cell_type": "code",
   "execution_count": 147,
   "id": "01c8b574",
   "metadata": {},
   "outputs": [
    {
     "data": {
      "text/html": [
       "<div>\n",
       "<style scoped>\n",
       "    .dataframe tbody tr th:only-of-type {\n",
       "        vertical-align: middle;\n",
       "    }\n",
       "\n",
       "    .dataframe tbody tr th {\n",
       "        vertical-align: top;\n",
       "    }\n",
       "\n",
       "    .dataframe thead th {\n",
       "        text-align: right;\n",
       "    }\n",
       "</style>\n",
       "<table border=\"1\" class=\"dataframe\">\n",
       "  <thead>\n",
       "    <tr style=\"text-align: right;\">\n",
       "      <th></th>\n",
       "      <th>Time</th>\n",
       "      <th>Inflation</th>\n",
       "    </tr>\n",
       "  </thead>\n",
       "  <tbody>\n",
       "    <tr>\n",
       "      <th>456</th>\n",
       "      <td>1984-12-01</td>\n",
       "      <td>0.000000</td>\n",
       "    </tr>\n",
       "    <tr>\n",
       "      <th>457</th>\n",
       "      <td>1984-11-01</td>\n",
       "      <td>0.000000</td>\n",
       "    </tr>\n",
       "    <tr>\n",
       "      <th>458</th>\n",
       "      <td>1984-10-01</td>\n",
       "      <td>0.002857</td>\n",
       "    </tr>\n",
       "    <tr>\n",
       "      <th>459</th>\n",
       "      <td>1984-09-01</td>\n",
       "      <td>0.004785</td>\n",
       "    </tr>\n",
       "    <tr>\n",
       "      <th>460</th>\n",
       "      <td>1984-08-01</td>\n",
       "      <td>0.003842</td>\n",
       "    </tr>\n",
       "    <tr>\n",
       "      <th>...</th>\n",
       "      <td>...</td>\n",
       "      <td>...</td>\n",
       "    </tr>\n",
       "    <tr>\n",
       "      <th>1315</th>\n",
       "      <td>1913-05-01</td>\n",
       "      <td>-0.010204</td>\n",
       "    </tr>\n",
       "    <tr>\n",
       "      <th>1316</th>\n",
       "      <td>1913-04-01</td>\n",
       "      <td>0.000000</td>\n",
       "    </tr>\n",
       "    <tr>\n",
       "      <th>1317</th>\n",
       "      <td>1913-03-01</td>\n",
       "      <td>0.000000</td>\n",
       "    </tr>\n",
       "    <tr>\n",
       "      <th>1318</th>\n",
       "      <td>1913-02-01</td>\n",
       "      <td>0.000000</td>\n",
       "    </tr>\n",
       "    <tr>\n",
       "      <th>1319</th>\n",
       "      <td>1913-01-01</td>\n",
       "      <td>NaN</td>\n",
       "    </tr>\n",
       "  </tbody>\n",
       "</table>\n",
       "<p>864 rows × 2 columns</p>\n",
       "</div>"
      ],
      "text/plain": [
       "            Time  Inflation\n",
       "456   1984-12-01   0.000000\n",
       "457   1984-11-01   0.000000\n",
       "458   1984-10-01   0.002857\n",
       "459   1984-09-01   0.004785\n",
       "460   1984-08-01   0.003842\n",
       "...          ...        ...\n",
       "1315  1913-05-01  -0.010204\n",
       "1316  1913-04-01   0.000000\n",
       "1317  1913-03-01   0.000000\n",
       "1318  1913-02-01   0.000000\n",
       "1319  1913-01-01        NaN\n",
       "\n",
       "[864 rows x 2 columns]"
      ]
     },
     "execution_count": 147,
     "metadata": {},
     "output_type": "execute_result"
    }
   ],
   "source": [
    "#Définir la plage de données : 01-01-1985 au 01-12-2022\n",
    "\n",
    "data_inflation2[data_inflation2['Time'] < '1985-01-01']"
   ]
  },
  {
   "cell_type": "code",
   "execution_count": 148,
   "id": "2b9732c9",
   "metadata": {},
   "outputs": [
    {
     "data": {
      "text/html": [
       "<div>\n",
       "<style scoped>\n",
       "    .dataframe tbody tr th:only-of-type {\n",
       "        vertical-align: middle;\n",
       "    }\n",
       "\n",
       "    .dataframe tbody tr th {\n",
       "        vertical-align: top;\n",
       "    }\n",
       "\n",
       "    .dataframe thead th {\n",
       "        text-align: right;\n",
       "    }\n",
       "</style>\n",
       "<table border=\"1\" class=\"dataframe\">\n",
       "  <thead>\n",
       "    <tr style=\"text-align: right;\">\n",
       "      <th></th>\n",
       "      <th>Time</th>\n",
       "      <th>Inflation</th>\n",
       "    </tr>\n",
       "  </thead>\n",
       "  <tbody>\n",
       "    <tr>\n",
       "      <th>0</th>\n",
       "      <td>2022-12-01</td>\n",
       "      <td>-0.003070</td>\n",
       "    </tr>\n",
       "    <tr>\n",
       "      <th>1</th>\n",
       "      <td>2022-11-01</td>\n",
       "      <td>-0.001010</td>\n",
       "    </tr>\n",
       "    <tr>\n",
       "      <th>2</th>\n",
       "      <td>2022-10-01</td>\n",
       "      <td>0.004056</td>\n",
       "    </tr>\n",
       "    <tr>\n",
       "      <th>3</th>\n",
       "      <td>2022-09-01</td>\n",
       "      <td>0.002151</td>\n",
       "    </tr>\n",
       "    <tr>\n",
       "      <th>4</th>\n",
       "      <td>2022-08-01</td>\n",
       "      <td>-0.000354</td>\n",
       "    </tr>\n",
       "    <tr>\n",
       "      <th>...</th>\n",
       "      <td>...</td>\n",
       "      <td>...</td>\n",
       "    </tr>\n",
       "    <tr>\n",
       "      <th>451</th>\n",
       "      <td>1985-05-01</td>\n",
       "      <td>0.003742</td>\n",
       "    </tr>\n",
       "    <tr>\n",
       "      <th>452</th>\n",
       "      <td>1985-04-01</td>\n",
       "      <td>0.004699</td>\n",
       "    </tr>\n",
       "    <tr>\n",
       "      <th>453</th>\n",
       "      <td>1985-03-01</td>\n",
       "      <td>0.003774</td>\n",
       "    </tr>\n",
       "    <tr>\n",
       "      <th>454</th>\n",
       "      <td>1985-02-01</td>\n",
       "      <td>0.004739</td>\n",
       "    </tr>\n",
       "    <tr>\n",
       "      <th>455</th>\n",
       "      <td>1985-01-01</td>\n",
       "      <td>0.001899</td>\n",
       "    </tr>\n",
       "  </tbody>\n",
       "</table>\n",
       "<p>456 rows × 2 columns</p>\n",
       "</div>"
      ],
      "text/plain": [
       "           Time  Inflation\n",
       "0    2022-12-01  -0.003070\n",
       "1    2022-11-01  -0.001010\n",
       "2    2022-10-01   0.004056\n",
       "3    2022-09-01   0.002151\n",
       "4    2022-08-01  -0.000354\n",
       "..          ...        ...\n",
       "451  1985-05-01   0.003742\n",
       "452  1985-04-01   0.004699\n",
       "453  1985-03-01   0.003774\n",
       "454  1985-02-01   0.004739\n",
       "455  1985-01-01   0.001899\n",
       "\n",
       "[456 rows x 2 columns]"
      ]
     },
     "execution_count": 148,
     "metadata": {},
     "output_type": "execute_result"
    }
   ],
   "source": [
    "data_inflation2.drop(data_inflation2.index[456:1320], inplace = True)\n",
    "data_inflation2"
   ]
  },
  {
   "cell_type": "markdown",
   "id": "e9f735fb",
   "metadata": {},
   "source": [
    "#### 1.2) Treasury Yield"
   ]
  },
  {
   "cell_type": "code",
   "execution_count": 149,
   "id": "de04f33b",
   "metadata": {},
   "outputs": [
    {
     "name": "stdout",
     "output_type": "stream",
     "text": [
      "      timestamp  value\n",
      "0    2023-01-01   4.21\n",
      "1    2022-12-01   4.29\n",
      "2    2022-11-01   4.50\n",
      "3    2022-10-01   4.38\n",
      "4    2022-09-01   3.86\n",
      "..          ...    ...\n",
      "555  1976-10-01   5.98\n",
      "556  1976-09-01   6.42\n",
      "557  1976-08-01   6.63\n",
      "558  1976-07-01   6.85\n",
      "559  1976-06-01   7.06\n",
      "\n",
      "[560 rows x 2 columns]\n"
     ]
    }
   ],
   "source": [
    "#importation données Bonds du Trésor\n",
    "\n",
    "headers = {\"User-Agent\" : \"Mozilla/5.0 (Windows NT 10.0; Win64; x64; rv:81.0) Gecko/20100101 Firefox/81.0\"}\n",
    "\n",
    "API_KEY = \"NOBHHHGB358UPAWJ\"\n",
    "\n",
    "symbol = \"TREASURY_YIELD\"\n",
    "\n",
    "interval = \"monthly\"\n",
    "maturity = \"2year\"\n",
    "output_type = \"csv\"\n",
    "\n",
    "url = \"https://www.alphavantage.co/query?function=TREASURY_YIELD&symbol=%s&interval=%s&maturity=%s&apikey=%s&datatype=%s&outputsize=full\" % (symbol, interval, maturity, API_KEY, \n",
    "                                                                                                          output_type)\n",
    "\n",
    "resp = rq.get(url).text\n",
    "\n",
    "str_io = StringIO(resp)\n",
    "\n",
    "data_TY = pd.read_csv(str_io, sep=\",\")\n",
    "print (data_TY)"
   ]
  },
  {
   "cell_type": "code",
   "execution_count": 150,
   "id": "d38fcfe6",
   "metadata": {},
   "outputs": [
    {
     "data": {
      "text/html": [
       "<div>\n",
       "<style scoped>\n",
       "    .dataframe tbody tr th:only-of-type {\n",
       "        vertical-align: middle;\n",
       "    }\n",
       "\n",
       "    .dataframe tbody tr th {\n",
       "        vertical-align: top;\n",
       "    }\n",
       "\n",
       "    .dataframe thead th {\n",
       "        text-align: right;\n",
       "    }\n",
       "</style>\n",
       "<table border=\"1\" class=\"dataframe\">\n",
       "  <thead>\n",
       "    <tr style=\"text-align: right;\">\n",
       "      <th></th>\n",
       "      <th>timestamp</th>\n",
       "      <th>value</th>\n",
       "    </tr>\n",
       "  </thead>\n",
       "  <tbody>\n",
       "    <tr>\n",
       "      <th>457</th>\n",
       "      <td>1984-12-01</td>\n",
       "      <td>10.18</td>\n",
       "    </tr>\n",
       "    <tr>\n",
       "      <th>458</th>\n",
       "      <td>1984-11-01</td>\n",
       "      <td>10.65</td>\n",
       "    </tr>\n",
       "    <tr>\n",
       "      <th>459</th>\n",
       "      <td>1984-10-01</td>\n",
       "      <td>11.60</td>\n",
       "    </tr>\n",
       "    <tr>\n",
       "      <th>460</th>\n",
       "      <td>1984-09-01</td>\n",
       "      <td>12.20</td>\n",
       "    </tr>\n",
       "    <tr>\n",
       "      <th>461</th>\n",
       "      <td>1984-08-01</td>\n",
       "      <td>12.43</td>\n",
       "    </tr>\n",
       "    <tr>\n",
       "      <th>...</th>\n",
       "      <td>...</td>\n",
       "      <td>...</td>\n",
       "    </tr>\n",
       "    <tr>\n",
       "      <th>555</th>\n",
       "      <td>1976-10-01</td>\n",
       "      <td>5.98</td>\n",
       "    </tr>\n",
       "    <tr>\n",
       "      <th>556</th>\n",
       "      <td>1976-09-01</td>\n",
       "      <td>6.42</td>\n",
       "    </tr>\n",
       "    <tr>\n",
       "      <th>557</th>\n",
       "      <td>1976-08-01</td>\n",
       "      <td>6.63</td>\n",
       "    </tr>\n",
       "    <tr>\n",
       "      <th>558</th>\n",
       "      <td>1976-07-01</td>\n",
       "      <td>6.85</td>\n",
       "    </tr>\n",
       "    <tr>\n",
       "      <th>559</th>\n",
       "      <td>1976-06-01</td>\n",
       "      <td>7.06</td>\n",
       "    </tr>\n",
       "  </tbody>\n",
       "</table>\n",
       "<p>103 rows × 2 columns</p>\n",
       "</div>"
      ],
      "text/plain": [
       "      timestamp  value\n",
       "457  1984-12-01  10.18\n",
       "458  1984-11-01  10.65\n",
       "459  1984-10-01  11.60\n",
       "460  1984-09-01  12.20\n",
       "461  1984-08-01  12.43\n",
       "..          ...    ...\n",
       "555  1976-10-01   5.98\n",
       "556  1976-09-01   6.42\n",
       "557  1976-08-01   6.63\n",
       "558  1976-07-01   6.85\n",
       "559  1976-06-01   7.06\n",
       "\n",
       "[103 rows x 2 columns]"
      ]
     },
     "execution_count": 150,
     "metadata": {},
     "output_type": "execute_result"
    }
   ],
   "source": [
    "#Définir la plage de données : 01-01-1985 au 01-12-2022\n",
    "\n",
    "data_TY[data_TY['timestamp'] < '1985-01-01']"
   ]
  },
  {
   "cell_type": "code",
   "execution_count": 151,
   "id": "12bc35f8",
   "metadata": {},
   "outputs": [
    {
     "data": {
      "text/html": [
       "<div>\n",
       "<style scoped>\n",
       "    .dataframe tbody tr th:only-of-type {\n",
       "        vertical-align: middle;\n",
       "    }\n",
       "\n",
       "    .dataframe tbody tr th {\n",
       "        vertical-align: top;\n",
       "    }\n",
       "\n",
       "    .dataframe thead th {\n",
       "        text-align: right;\n",
       "    }\n",
       "</style>\n",
       "<table border=\"1\" class=\"dataframe\">\n",
       "  <thead>\n",
       "    <tr style=\"text-align: right;\">\n",
       "      <th></th>\n",
       "      <th>timestamp</th>\n",
       "      <th>value</th>\n",
       "    </tr>\n",
       "  </thead>\n",
       "  <tbody>\n",
       "    <tr>\n",
       "      <th>0</th>\n",
       "      <td>2023-01-01</td>\n",
       "      <td>4.21</td>\n",
       "    </tr>\n",
       "    <tr>\n",
       "      <th>1</th>\n",
       "      <td>2022-12-01</td>\n",
       "      <td>4.29</td>\n",
       "    </tr>\n",
       "    <tr>\n",
       "      <th>2</th>\n",
       "      <td>2022-11-01</td>\n",
       "      <td>4.50</td>\n",
       "    </tr>\n",
       "    <tr>\n",
       "      <th>3</th>\n",
       "      <td>2022-10-01</td>\n",
       "      <td>4.38</td>\n",
       "    </tr>\n",
       "    <tr>\n",
       "      <th>4</th>\n",
       "      <td>2022-09-01</td>\n",
       "      <td>3.86</td>\n",
       "    </tr>\n",
       "    <tr>\n",
       "      <th>...</th>\n",
       "      <td>...</td>\n",
       "      <td>...</td>\n",
       "    </tr>\n",
       "    <tr>\n",
       "      <th>452</th>\n",
       "      <td>1985-05-01</td>\n",
       "      <td>9.39</td>\n",
       "    </tr>\n",
       "    <tr>\n",
       "      <th>453</th>\n",
       "      <td>1985-04-01</td>\n",
       "      <td>10.09</td>\n",
       "    </tr>\n",
       "    <tr>\n",
       "      <th>454</th>\n",
       "      <td>1985-03-01</td>\n",
       "      <td>10.71</td>\n",
       "    </tr>\n",
       "    <tr>\n",
       "      <th>455</th>\n",
       "      <td>1985-02-01</td>\n",
       "      <td>10.17</td>\n",
       "    </tr>\n",
       "    <tr>\n",
       "      <th>559</th>\n",
       "      <td>1976-06-01</td>\n",
       "      <td>7.06</td>\n",
       "    </tr>\n",
       "  </tbody>\n",
       "</table>\n",
       "<p>457 rows × 2 columns</p>\n",
       "</div>"
      ],
      "text/plain": [
       "      timestamp  value\n",
       "0    2023-01-01   4.21\n",
       "1    2022-12-01   4.29\n",
       "2    2022-11-01   4.50\n",
       "3    2022-10-01   4.38\n",
       "4    2022-09-01   3.86\n",
       "..          ...    ...\n",
       "452  1985-05-01   9.39\n",
       "453  1985-04-01  10.09\n",
       "454  1985-03-01  10.71\n",
       "455  1985-02-01  10.17\n",
       "559  1976-06-01   7.06\n",
       "\n",
       "[457 rows x 2 columns]"
      ]
     },
     "execution_count": 151,
     "metadata": {},
     "output_type": "execute_result"
    }
   ],
   "source": [
    "data_TY.drop(data_TY.index[456:559], inplace = True)\n",
    "data_TY"
   ]
  },
  {
   "cell_type": "code",
   "execution_count": 152,
   "id": "555c9cb9",
   "metadata": {
    "scrolled": false
   },
   "outputs": [
    {
     "data": {
      "text/html": [
       "<div>\n",
       "<style scoped>\n",
       "    .dataframe tbody tr th:only-of-type {\n",
       "        vertical-align: middle;\n",
       "    }\n",
       "\n",
       "    .dataframe tbody tr th {\n",
       "        vertical-align: top;\n",
       "    }\n",
       "\n",
       "    .dataframe thead th {\n",
       "        text-align: right;\n",
       "    }\n",
       "</style>\n",
       "<table border=\"1\" class=\"dataframe\">\n",
       "  <thead>\n",
       "    <tr style=\"text-align: right;\">\n",
       "      <th></th>\n",
       "      <th>Time</th>\n",
       "      <th>Treasury_Yield</th>\n",
       "    </tr>\n",
       "  </thead>\n",
       "  <tbody>\n",
       "    <tr>\n",
       "      <th>0</th>\n",
       "      <td>2023-01-01</td>\n",
       "      <td>4.21</td>\n",
       "    </tr>\n",
       "    <tr>\n",
       "      <th>1</th>\n",
       "      <td>2022-12-01</td>\n",
       "      <td>4.29</td>\n",
       "    </tr>\n",
       "    <tr>\n",
       "      <th>2</th>\n",
       "      <td>2022-11-01</td>\n",
       "      <td>4.50</td>\n",
       "    </tr>\n",
       "    <tr>\n",
       "      <th>3</th>\n",
       "      <td>2022-10-01</td>\n",
       "      <td>4.38</td>\n",
       "    </tr>\n",
       "    <tr>\n",
       "      <th>4</th>\n",
       "      <td>2022-09-01</td>\n",
       "      <td>3.86</td>\n",
       "    </tr>\n",
       "    <tr>\n",
       "      <th>...</th>\n",
       "      <td>...</td>\n",
       "      <td>...</td>\n",
       "    </tr>\n",
       "    <tr>\n",
       "      <th>452</th>\n",
       "      <td>1985-05-01</td>\n",
       "      <td>9.39</td>\n",
       "    </tr>\n",
       "    <tr>\n",
       "      <th>453</th>\n",
       "      <td>1985-04-01</td>\n",
       "      <td>10.09</td>\n",
       "    </tr>\n",
       "    <tr>\n",
       "      <th>454</th>\n",
       "      <td>1985-03-01</td>\n",
       "      <td>10.71</td>\n",
       "    </tr>\n",
       "    <tr>\n",
       "      <th>455</th>\n",
       "      <td>1985-02-01</td>\n",
       "      <td>10.17</td>\n",
       "    </tr>\n",
       "    <tr>\n",
       "      <th>559</th>\n",
       "      <td>1976-06-01</td>\n",
       "      <td>7.06</td>\n",
       "    </tr>\n",
       "  </tbody>\n",
       "</table>\n",
       "<p>457 rows × 2 columns</p>\n",
       "</div>"
      ],
      "text/plain": [
       "           Time  Treasury_Yield\n",
       "0    2023-01-01            4.21\n",
       "1    2022-12-01            4.29\n",
       "2    2022-11-01            4.50\n",
       "3    2022-10-01            4.38\n",
       "4    2022-09-01            3.86\n",
       "..          ...             ...\n",
       "452  1985-05-01            9.39\n",
       "453  1985-04-01           10.09\n",
       "454  1985-03-01           10.71\n",
       "455  1985-02-01           10.17\n",
       "559  1976-06-01            7.06\n",
       "\n",
       "[457 rows x 2 columns]"
      ]
     },
     "execution_count": 152,
     "metadata": {},
     "output_type": "execute_result"
    }
   ],
   "source": [
    "#On renomme les colonnes du dataframe\n",
    "\n",
    "data_TY.columns = ['Time', 'Treasury_Yield']\n",
    "data_TY"
   ]
  },
  {
   "cell_type": "markdown",
   "id": "7c805df8",
   "metadata": {},
   "source": [
    "#### 1.3) Federal Funds Rate"
   ]
  },
  {
   "cell_type": "code",
   "execution_count": 153,
   "id": "f167d4e6",
   "metadata": {},
   "outputs": [
    {
     "name": "stdout",
     "output_type": "stream",
     "text": [
      "      timestamp  value\n",
      "0    2023-01-01   4.33\n",
      "1    2022-12-01   4.10\n",
      "2    2022-11-01   3.78\n",
      "3    2022-10-01   3.08\n",
      "4    2022-09-01   2.56\n",
      "..          ...    ...\n",
      "818  1954-11-01   0.83\n",
      "819  1954-10-01   0.85\n",
      "820  1954-09-01   1.07\n",
      "821  1954-08-01   1.22\n",
      "822  1954-07-01   0.80\n",
      "\n",
      "[823 rows x 2 columns]\n"
     ]
    }
   ],
   "source": [
    "#importation données Federal Funds Rate\n",
    "\n",
    "headers = {\"User-Agent\" : \"Mozilla/5.0 (Windows NT 10.0; Win64; x64; rv:81.0) Gecko/20100101 Firefox/81.0\"}\n",
    "\n",
    "API_KEY = \"NOBHHHGB358UPAWJ\"\n",
    "\n",
    "symbol = \"FEDERAL_FUNDS_RATE\"\n",
    "\n",
    "interval = \"monthly\"\n",
    "output_type = \"csv\"\n",
    "\n",
    "url = \"https://www.alphavantage.co/query?function=FEDERAL_FUNDS_RATE&symbol=%s&interval=%s&apikey=%s&datatype=%s&outputsize=full\" % (symbol, interval, API_KEY, \n",
    "                                                                                                          output_type)\n",
    "\n",
    "resp = rq.get(url).text\n",
    "\n",
    "str_io = StringIO(resp)\n",
    "\n",
    "data_FF = pd.read_csv(str_io, sep=\",\")\n",
    "print (data_FF)"
   ]
  },
  {
   "cell_type": "code",
   "execution_count": 154,
   "id": "d18ace5d",
   "metadata": {},
   "outputs": [
    {
     "data": {
      "text/html": [
       "<div>\n",
       "<style scoped>\n",
       "    .dataframe tbody tr th:only-of-type {\n",
       "        vertical-align: middle;\n",
       "    }\n",
       "\n",
       "    .dataframe tbody tr th {\n",
       "        vertical-align: top;\n",
       "    }\n",
       "\n",
       "    .dataframe thead th {\n",
       "        text-align: right;\n",
       "    }\n",
       "</style>\n",
       "<table border=\"1\" class=\"dataframe\">\n",
       "  <thead>\n",
       "    <tr style=\"text-align: right;\">\n",
       "      <th></th>\n",
       "      <th>timestamp</th>\n",
       "      <th>value</th>\n",
       "    </tr>\n",
       "  </thead>\n",
       "  <tbody>\n",
       "    <tr>\n",
       "      <th>457</th>\n",
       "      <td>1984-12-01</td>\n",
       "      <td>8.38</td>\n",
       "    </tr>\n",
       "    <tr>\n",
       "      <th>458</th>\n",
       "      <td>1984-11-01</td>\n",
       "      <td>9.43</td>\n",
       "    </tr>\n",
       "    <tr>\n",
       "      <th>459</th>\n",
       "      <td>1984-10-01</td>\n",
       "      <td>9.99</td>\n",
       "    </tr>\n",
       "    <tr>\n",
       "      <th>460</th>\n",
       "      <td>1984-09-01</td>\n",
       "      <td>11.30</td>\n",
       "    </tr>\n",
       "    <tr>\n",
       "      <th>461</th>\n",
       "      <td>1984-08-01</td>\n",
       "      <td>11.64</td>\n",
       "    </tr>\n",
       "    <tr>\n",
       "      <th>...</th>\n",
       "      <td>...</td>\n",
       "      <td>...</td>\n",
       "    </tr>\n",
       "    <tr>\n",
       "      <th>818</th>\n",
       "      <td>1954-11-01</td>\n",
       "      <td>0.83</td>\n",
       "    </tr>\n",
       "    <tr>\n",
       "      <th>819</th>\n",
       "      <td>1954-10-01</td>\n",
       "      <td>0.85</td>\n",
       "    </tr>\n",
       "    <tr>\n",
       "      <th>820</th>\n",
       "      <td>1954-09-01</td>\n",
       "      <td>1.07</td>\n",
       "    </tr>\n",
       "    <tr>\n",
       "      <th>821</th>\n",
       "      <td>1954-08-01</td>\n",
       "      <td>1.22</td>\n",
       "    </tr>\n",
       "    <tr>\n",
       "      <th>822</th>\n",
       "      <td>1954-07-01</td>\n",
       "      <td>0.80</td>\n",
       "    </tr>\n",
       "  </tbody>\n",
       "</table>\n",
       "<p>366 rows × 2 columns</p>\n",
       "</div>"
      ],
      "text/plain": [
       "      timestamp  value\n",
       "457  1984-12-01   8.38\n",
       "458  1984-11-01   9.43\n",
       "459  1984-10-01   9.99\n",
       "460  1984-09-01  11.30\n",
       "461  1984-08-01  11.64\n",
       "..          ...    ...\n",
       "818  1954-11-01   0.83\n",
       "819  1954-10-01   0.85\n",
       "820  1954-09-01   1.07\n",
       "821  1954-08-01   1.22\n",
       "822  1954-07-01   0.80\n",
       "\n",
       "[366 rows x 2 columns]"
      ]
     },
     "execution_count": 154,
     "metadata": {},
     "output_type": "execute_result"
    }
   ],
   "source": [
    "#Définir la plage de données : 01-01-1985 au 01-12-2022\n",
    "\n",
    "data_FF[data_FF['timestamp'] < '1985-01-01']"
   ]
  },
  {
   "cell_type": "code",
   "execution_count": 155,
   "id": "a802594e",
   "metadata": {},
   "outputs": [
    {
     "data": {
      "text/html": [
       "<div>\n",
       "<style scoped>\n",
       "    .dataframe tbody tr th:only-of-type {\n",
       "        vertical-align: middle;\n",
       "    }\n",
       "\n",
       "    .dataframe tbody tr th {\n",
       "        vertical-align: top;\n",
       "    }\n",
       "\n",
       "    .dataframe thead th {\n",
       "        text-align: right;\n",
       "    }\n",
       "</style>\n",
       "<table border=\"1\" class=\"dataframe\">\n",
       "  <thead>\n",
       "    <tr style=\"text-align: right;\">\n",
       "      <th></th>\n",
       "      <th>timestamp</th>\n",
       "      <th>value</th>\n",
       "    </tr>\n",
       "  </thead>\n",
       "  <tbody>\n",
       "    <tr>\n",
       "      <th>0</th>\n",
       "      <td>2023-01-01</td>\n",
       "      <td>4.33</td>\n",
       "    </tr>\n",
       "    <tr>\n",
       "      <th>1</th>\n",
       "      <td>2022-12-01</td>\n",
       "      <td>4.10</td>\n",
       "    </tr>\n",
       "    <tr>\n",
       "      <th>2</th>\n",
       "      <td>2022-11-01</td>\n",
       "      <td>3.78</td>\n",
       "    </tr>\n",
       "    <tr>\n",
       "      <th>3</th>\n",
       "      <td>2022-10-01</td>\n",
       "      <td>3.08</td>\n",
       "    </tr>\n",
       "    <tr>\n",
       "      <th>4</th>\n",
       "      <td>2022-09-01</td>\n",
       "      <td>2.56</td>\n",
       "    </tr>\n",
       "    <tr>\n",
       "      <th>...</th>\n",
       "      <td>...</td>\n",
       "      <td>...</td>\n",
       "    </tr>\n",
       "    <tr>\n",
       "      <th>452</th>\n",
       "      <td>1985-05-01</td>\n",
       "      <td>7.97</td>\n",
       "    </tr>\n",
       "    <tr>\n",
       "      <th>453</th>\n",
       "      <td>1985-04-01</td>\n",
       "      <td>8.27</td>\n",
       "    </tr>\n",
       "    <tr>\n",
       "      <th>454</th>\n",
       "      <td>1985-03-01</td>\n",
       "      <td>8.58</td>\n",
       "    </tr>\n",
       "    <tr>\n",
       "      <th>455</th>\n",
       "      <td>1985-02-01</td>\n",
       "      <td>8.50</td>\n",
       "    </tr>\n",
       "    <tr>\n",
       "      <th>822</th>\n",
       "      <td>1954-07-01</td>\n",
       "      <td>0.80</td>\n",
       "    </tr>\n",
       "  </tbody>\n",
       "</table>\n",
       "<p>457 rows × 2 columns</p>\n",
       "</div>"
      ],
      "text/plain": [
       "      timestamp  value\n",
       "0    2023-01-01   4.33\n",
       "1    2022-12-01   4.10\n",
       "2    2022-11-01   3.78\n",
       "3    2022-10-01   3.08\n",
       "4    2022-09-01   2.56\n",
       "..          ...    ...\n",
       "452  1985-05-01   7.97\n",
       "453  1985-04-01   8.27\n",
       "454  1985-03-01   8.58\n",
       "455  1985-02-01   8.50\n",
       "822  1954-07-01   0.80\n",
       "\n",
       "[457 rows x 2 columns]"
      ]
     },
     "execution_count": 155,
     "metadata": {},
     "output_type": "execute_result"
    }
   ],
   "source": [
    "data_FF.drop(data_FF.index[456:822], inplace = True)\n",
    "data_FF"
   ]
  },
  {
   "cell_type": "code",
   "execution_count": 156,
   "id": "5d98ffb9",
   "metadata": {},
   "outputs": [
    {
     "data": {
      "text/html": [
       "<div>\n",
       "<style scoped>\n",
       "    .dataframe tbody tr th:only-of-type {\n",
       "        vertical-align: middle;\n",
       "    }\n",
       "\n",
       "    .dataframe tbody tr th {\n",
       "        vertical-align: top;\n",
       "    }\n",
       "\n",
       "    .dataframe thead th {\n",
       "        text-align: right;\n",
       "    }\n",
       "</style>\n",
       "<table border=\"1\" class=\"dataframe\">\n",
       "  <thead>\n",
       "    <tr style=\"text-align: right;\">\n",
       "      <th></th>\n",
       "      <th>Time</th>\n",
       "      <th>Federal_Funds_Rate</th>\n",
       "    </tr>\n",
       "  </thead>\n",
       "  <tbody>\n",
       "    <tr>\n",
       "      <th>0</th>\n",
       "      <td>2023-01-01</td>\n",
       "      <td>4.33</td>\n",
       "    </tr>\n",
       "    <tr>\n",
       "      <th>1</th>\n",
       "      <td>2022-12-01</td>\n",
       "      <td>4.10</td>\n",
       "    </tr>\n",
       "    <tr>\n",
       "      <th>2</th>\n",
       "      <td>2022-11-01</td>\n",
       "      <td>3.78</td>\n",
       "    </tr>\n",
       "    <tr>\n",
       "      <th>3</th>\n",
       "      <td>2022-10-01</td>\n",
       "      <td>3.08</td>\n",
       "    </tr>\n",
       "    <tr>\n",
       "      <th>4</th>\n",
       "      <td>2022-09-01</td>\n",
       "      <td>2.56</td>\n",
       "    </tr>\n",
       "    <tr>\n",
       "      <th>...</th>\n",
       "      <td>...</td>\n",
       "      <td>...</td>\n",
       "    </tr>\n",
       "    <tr>\n",
       "      <th>452</th>\n",
       "      <td>1985-05-01</td>\n",
       "      <td>7.97</td>\n",
       "    </tr>\n",
       "    <tr>\n",
       "      <th>453</th>\n",
       "      <td>1985-04-01</td>\n",
       "      <td>8.27</td>\n",
       "    </tr>\n",
       "    <tr>\n",
       "      <th>454</th>\n",
       "      <td>1985-03-01</td>\n",
       "      <td>8.58</td>\n",
       "    </tr>\n",
       "    <tr>\n",
       "      <th>455</th>\n",
       "      <td>1985-02-01</td>\n",
       "      <td>8.50</td>\n",
       "    </tr>\n",
       "    <tr>\n",
       "      <th>822</th>\n",
       "      <td>1954-07-01</td>\n",
       "      <td>0.80</td>\n",
       "    </tr>\n",
       "  </tbody>\n",
       "</table>\n",
       "<p>457 rows × 2 columns</p>\n",
       "</div>"
      ],
      "text/plain": [
       "           Time  Federal_Funds_Rate\n",
       "0    2023-01-01                4.33\n",
       "1    2022-12-01                4.10\n",
       "2    2022-11-01                3.78\n",
       "3    2022-10-01                3.08\n",
       "4    2022-09-01                2.56\n",
       "..          ...                 ...\n",
       "452  1985-05-01                7.97\n",
       "453  1985-04-01                8.27\n",
       "454  1985-03-01                8.58\n",
       "455  1985-02-01                8.50\n",
       "822  1954-07-01                0.80\n",
       "\n",
       "[457 rows x 2 columns]"
      ]
     },
     "execution_count": 156,
     "metadata": {},
     "output_type": "execute_result"
    }
   ],
   "source": [
    "#On renomme les colonnes du dataframe\n",
    "\n",
    "data_FF.columns = ['Time', 'Federal_Funds_Rate']\n",
    "data_FF"
   ]
  },
  {
   "cell_type": "markdown",
   "id": "aee10e99",
   "metadata": {},
   "source": [
    "#### 1.4) Indice boursier Apple"
   ]
  },
  {
   "cell_type": "code",
   "execution_count": 157,
   "id": "7c704d87",
   "metadata": {},
   "outputs": [
    {
     "name": "stdout",
     "output_type": "stream",
     "text": [
      "347151600 1672527600\n",
      "https://query1.finance.yahoo.com/v7/finance/download/AAPL?period1=347151600&period2=1672527600&interval=1mo\n",
      "         Date      Open      High       Low     Close  Adj Close      Volume\n",
      "0  1985-01-01  0.130022  0.138951  0.124442  0.129464   0.100742  6366416000\n",
      "1  1985-02-01  0.129464  0.137277  0.110491  0.110491   0.085978  4733388800\n",
      "2  1985-03-01  0.110491  0.116071  0.092634  0.098772   0.076859  4615587200\n",
      "3  1985-04-01  0.098772  0.102679  0.087612  0.094866   0.073820  2868028800\n",
      "4  1985-05-01  0.094866  0.099330  0.075335  0.077567   0.060359  4639129600\n"
     ]
    }
   ],
   "source": [
    "#importation données indice boursier Apple\n",
    "\n",
    "headers = {\"User-Agent\" : \"Mozilla/5.0 (Windows NT 10.0; Win64; x64; rv:81.0) Gecko/20100101 Firefox/81.0\"}\n",
    "\n",
    "url_base = \"https://query1.finance.yahoo.com\"\n",
    "\n",
    "# unix timestamp : le nombre de seconde passée de puis le 1 Janvier 1970 00:00:00\n",
    "symbol = \"AAPL\"\n",
    "period1 = int(dt.datetime(1981,1,1).timestamp())\n",
    "period2 = int(dt.datetime(2023,1,1).timestamp())\n",
    "print(period1, period2)\n",
    "interval = \"1mo\" #fréquence mensuelle : 1 month\n",
    "\n",
    "url_suite = \"/v7/finance/download/%s?period1=%s&period2=%s&interval=%s\" % (symbol, period1, period2, interval)\n",
    "# premier %s = symbol, deuxième %s = period1, etc.....\n",
    "\n",
    "full_url = url_base + url_suite\n",
    "print(full_url)\n",
    "\n",
    "resp = rq.get(full_url, headers=headers).text\n",
    "\n",
    "str_io = StringIO(resp)\n",
    "\n",
    "data_apple = pd.read_csv(str_io, sep=\",\")\n",
    "\n",
    "print(data_apple.head())"
   ]
  },
  {
   "cell_type": "code",
   "execution_count": 158,
   "id": "f6725d0c",
   "metadata": {},
   "outputs": [
    {
     "data": {
      "text/html": [
       "<div>\n",
       "<style scoped>\n",
       "    .dataframe tbody tr th:only-of-type {\n",
       "        vertical-align: middle;\n",
       "    }\n",
       "\n",
       "    .dataframe tbody tr th {\n",
       "        vertical-align: top;\n",
       "    }\n",
       "\n",
       "    .dataframe thead th {\n",
       "        text-align: right;\n",
       "    }\n",
       "</style>\n",
       "<table border=\"1\" class=\"dataframe\">\n",
       "  <thead>\n",
       "    <tr style=\"text-align: right;\">\n",
       "      <th></th>\n",
       "      <th>Date</th>\n",
       "      <th>Close</th>\n",
       "    </tr>\n",
       "  </thead>\n",
       "  <tbody>\n",
       "    <tr>\n",
       "      <th>0</th>\n",
       "      <td>1985-01-01</td>\n",
       "      <td>0.129464</td>\n",
       "    </tr>\n",
       "    <tr>\n",
       "      <th>1</th>\n",
       "      <td>1985-02-01</td>\n",
       "      <td>0.110491</td>\n",
       "    </tr>\n",
       "    <tr>\n",
       "      <th>2</th>\n",
       "      <td>1985-03-01</td>\n",
       "      <td>0.098772</td>\n",
       "    </tr>\n",
       "    <tr>\n",
       "      <th>3</th>\n",
       "      <td>1985-04-01</td>\n",
       "      <td>0.094866</td>\n",
       "    </tr>\n",
       "    <tr>\n",
       "      <th>4</th>\n",
       "      <td>1985-05-01</td>\n",
       "      <td>0.077567</td>\n",
       "    </tr>\n",
       "    <tr>\n",
       "      <th>...</th>\n",
       "      <td>...</td>\n",
       "      <td>...</td>\n",
       "    </tr>\n",
       "    <tr>\n",
       "      <th>451</th>\n",
       "      <td>2022-08-01</td>\n",
       "      <td>157.220001</td>\n",
       "    </tr>\n",
       "    <tr>\n",
       "      <th>452</th>\n",
       "      <td>2022-09-01</td>\n",
       "      <td>138.199997</td>\n",
       "    </tr>\n",
       "    <tr>\n",
       "      <th>453</th>\n",
       "      <td>2022-10-01</td>\n",
       "      <td>153.339996</td>\n",
       "    </tr>\n",
       "    <tr>\n",
       "      <th>454</th>\n",
       "      <td>2022-11-01</td>\n",
       "      <td>148.029999</td>\n",
       "    </tr>\n",
       "    <tr>\n",
       "      <th>455</th>\n",
       "      <td>2022-12-01</td>\n",
       "      <td>129.929993</td>\n",
       "    </tr>\n",
       "  </tbody>\n",
       "</table>\n",
       "<p>456 rows × 2 columns</p>\n",
       "</div>"
      ],
      "text/plain": [
       "           Date       Close\n",
       "0    1985-01-01    0.129464\n",
       "1    1985-02-01    0.110491\n",
       "2    1985-03-01    0.098772\n",
       "3    1985-04-01    0.094866\n",
       "4    1985-05-01    0.077567\n",
       "..          ...         ...\n",
       "451  2022-08-01  157.220001\n",
       "452  2022-09-01  138.199997\n",
       "453  2022-10-01  153.339996\n",
       "454  2022-11-01  148.029999\n",
       "455  2022-12-01  129.929993\n",
       "\n",
       "[456 rows x 2 columns]"
      ]
     },
     "execution_count": 158,
     "metadata": {},
     "output_type": "execute_result"
    }
   ],
   "source": [
    "data_apple = data_apple.drop(['Open', 'High', 'Low', 'Adj Close', 'Volume'], axis=1)\n",
    "data_apple"
   ]
  },
  {
   "cell_type": "code",
   "execution_count": 159,
   "id": "3c942a38",
   "metadata": {
    "scrolled": false
   },
   "outputs": [
    {
     "data": {
      "text/html": [
       "<div>\n",
       "<style scoped>\n",
       "    .dataframe tbody tr th:only-of-type {\n",
       "        vertical-align: middle;\n",
       "    }\n",
       "\n",
       "    .dataframe tbody tr th {\n",
       "        vertical-align: top;\n",
       "    }\n",
       "\n",
       "    .dataframe thead th {\n",
       "        text-align: right;\n",
       "    }\n",
       "</style>\n",
       "<table border=\"1\" class=\"dataframe\">\n",
       "  <thead>\n",
       "    <tr style=\"text-align: right;\">\n",
       "      <th></th>\n",
       "      <th>Time</th>\n",
       "      <th>Apple2</th>\n",
       "    </tr>\n",
       "  </thead>\n",
       "  <tbody>\n",
       "    <tr>\n",
       "      <th>0</th>\n",
       "      <td>1985-01-01</td>\n",
       "      <td>0.129464</td>\n",
       "    </tr>\n",
       "    <tr>\n",
       "      <th>1</th>\n",
       "      <td>1985-02-01</td>\n",
       "      <td>0.110491</td>\n",
       "    </tr>\n",
       "    <tr>\n",
       "      <th>2</th>\n",
       "      <td>1985-03-01</td>\n",
       "      <td>0.098772</td>\n",
       "    </tr>\n",
       "    <tr>\n",
       "      <th>3</th>\n",
       "      <td>1985-04-01</td>\n",
       "      <td>0.094866</td>\n",
       "    </tr>\n",
       "    <tr>\n",
       "      <th>4</th>\n",
       "      <td>1985-05-01</td>\n",
       "      <td>0.077567</td>\n",
       "    </tr>\n",
       "    <tr>\n",
       "      <th>...</th>\n",
       "      <td>...</td>\n",
       "      <td>...</td>\n",
       "    </tr>\n",
       "    <tr>\n",
       "      <th>451</th>\n",
       "      <td>2022-08-01</td>\n",
       "      <td>157.220001</td>\n",
       "    </tr>\n",
       "    <tr>\n",
       "      <th>452</th>\n",
       "      <td>2022-09-01</td>\n",
       "      <td>138.199997</td>\n",
       "    </tr>\n",
       "    <tr>\n",
       "      <th>453</th>\n",
       "      <td>2022-10-01</td>\n",
       "      <td>153.339996</td>\n",
       "    </tr>\n",
       "    <tr>\n",
       "      <th>454</th>\n",
       "      <td>2022-11-01</td>\n",
       "      <td>148.029999</td>\n",
       "    </tr>\n",
       "    <tr>\n",
       "      <th>455</th>\n",
       "      <td>2022-12-01</td>\n",
       "      <td>129.929993</td>\n",
       "    </tr>\n",
       "  </tbody>\n",
       "</table>\n",
       "<p>456 rows × 2 columns</p>\n",
       "</div>"
      ],
      "text/plain": [
       "           Time      Apple2\n",
       "0    1985-01-01    0.129464\n",
       "1    1985-02-01    0.110491\n",
       "2    1985-03-01    0.098772\n",
       "3    1985-04-01    0.094866\n",
       "4    1985-05-01    0.077567\n",
       "..          ...         ...\n",
       "451  2022-08-01  157.220001\n",
       "452  2022-09-01  138.199997\n",
       "453  2022-10-01  153.339996\n",
       "454  2022-11-01  148.029999\n",
       "455  2022-12-01  129.929993\n",
       "\n",
       "[456 rows x 2 columns]"
      ]
     },
     "execution_count": 159,
     "metadata": {},
     "output_type": "execute_result"
    }
   ],
   "source": [
    "#On renomme les colonnes du dataframe\n",
    "\n",
    "data_apple.columns = ['Time', 'Apple2']\n",
    "data_apple"
   ]
  },
  {
   "cell_type": "code",
   "execution_count": 160,
   "id": "6668f961",
   "metadata": {},
   "outputs": [
    {
     "data": {
      "text/html": [
       "<div>\n",
       "<style scoped>\n",
       "    .dataframe tbody tr th:only-of-type {\n",
       "        vertical-align: middle;\n",
       "    }\n",
       "\n",
       "    .dataframe tbody tr th {\n",
       "        vertical-align: top;\n",
       "    }\n",
       "\n",
       "    .dataframe thead th {\n",
       "        text-align: right;\n",
       "    }\n",
       "</style>\n",
       "<table border=\"1\" class=\"dataframe\">\n",
       "  <thead>\n",
       "    <tr style=\"text-align: right;\">\n",
       "      <th></th>\n",
       "      <th>Time</th>\n",
       "      <th>Apple2</th>\n",
       "    </tr>\n",
       "  </thead>\n",
       "  <tbody>\n",
       "    <tr>\n",
       "      <th>0</th>\n",
       "      <td>1985-01-01</td>\n",
       "      <td>NaN</td>\n",
       "    </tr>\n",
       "    <tr>\n",
       "      <th>1</th>\n",
       "      <td>1985-02-01</td>\n",
       "      <td>-0.018973</td>\n",
       "    </tr>\n",
       "    <tr>\n",
       "      <th>2</th>\n",
       "      <td>1985-03-01</td>\n",
       "      <td>-0.011719</td>\n",
       "    </tr>\n",
       "    <tr>\n",
       "      <th>3</th>\n",
       "      <td>1985-04-01</td>\n",
       "      <td>-0.003906</td>\n",
       "    </tr>\n",
       "    <tr>\n",
       "      <th>4</th>\n",
       "      <td>1985-05-01</td>\n",
       "      <td>-0.017299</td>\n",
       "    </tr>\n",
       "  </tbody>\n",
       "</table>\n",
       "</div>"
      ],
      "text/plain": [
       "         Time    Apple2\n",
       "0  1985-01-01       NaN\n",
       "1  1985-02-01 -0.018973\n",
       "2  1985-03-01 -0.011719\n",
       "3  1985-04-01 -0.003906\n",
       "4  1985-05-01 -0.017299"
      ]
     },
     "execution_count": 160,
     "metadata": {},
     "output_type": "execute_result"
    }
   ],
   "source": [
    "#Transformation de Y (variable continue) en une variable discrète\n",
    "#Pour cela, on veut que Y prenne la valeur de 0 si son indice a baissé d'un mois à l'autre ; prenne la valeur de 1\n",
    "#si son indice a augmenté d'un mois à l'autre\n",
    "\n",
    "def minus(serie):\n",
    "    return serie-serie.shift()\n",
    "\n",
    "data_apple1 = pd.DataFrame ({'Time' : data_apple['Time'], 'Apple2' : minus(data_apple['Apple2'])})\n",
    "data_apple1.head()"
   ]
  },
  {
   "cell_type": "code",
   "execution_count": 161,
   "id": "d0de2083",
   "metadata": {},
   "outputs": [],
   "source": [
    "for i in range (0,456,1):\n",
    "        if data_apple1['Apple2'][i] <= 0 :\n",
    "            data_apple1['Apple2'][i] = 0\n",
    "        else :\n",
    "            data_apple1['Apple2'][i] = 1"
   ]
  },
  {
   "cell_type": "code",
   "execution_count": 162,
   "id": "69924d88",
   "metadata": {},
   "outputs": [
    {
     "data": {
      "text/html": [
       "<div>\n",
       "<style scoped>\n",
       "    .dataframe tbody tr th:only-of-type {\n",
       "        vertical-align: middle;\n",
       "    }\n",
       "\n",
       "    .dataframe tbody tr th {\n",
       "        vertical-align: top;\n",
       "    }\n",
       "\n",
       "    .dataframe thead th {\n",
       "        text-align: right;\n",
       "    }\n",
       "</style>\n",
       "<table border=\"1\" class=\"dataframe\">\n",
       "  <thead>\n",
       "    <tr style=\"text-align: right;\">\n",
       "      <th></th>\n",
       "      <th>Time</th>\n",
       "      <th>Apple</th>\n",
       "    </tr>\n",
       "  </thead>\n",
       "  <tbody>\n",
       "    <tr>\n",
       "      <th>0</th>\n",
       "      <td>1985-01-01</td>\n",
       "      <td>1.0</td>\n",
       "    </tr>\n",
       "    <tr>\n",
       "      <th>1</th>\n",
       "      <td>1985-02-01</td>\n",
       "      <td>0.0</td>\n",
       "    </tr>\n",
       "    <tr>\n",
       "      <th>2</th>\n",
       "      <td>1985-03-01</td>\n",
       "      <td>0.0</td>\n",
       "    </tr>\n",
       "    <tr>\n",
       "      <th>3</th>\n",
       "      <td>1985-04-01</td>\n",
       "      <td>0.0</td>\n",
       "    </tr>\n",
       "    <tr>\n",
       "      <th>4</th>\n",
       "      <td>1985-05-01</td>\n",
       "      <td>0.0</td>\n",
       "    </tr>\n",
       "    <tr>\n",
       "      <th>...</th>\n",
       "      <td>...</td>\n",
       "      <td>...</td>\n",
       "    </tr>\n",
       "    <tr>\n",
       "      <th>451</th>\n",
       "      <td>2022-08-01</td>\n",
       "      <td>0.0</td>\n",
       "    </tr>\n",
       "    <tr>\n",
       "      <th>452</th>\n",
       "      <td>2022-09-01</td>\n",
       "      <td>0.0</td>\n",
       "    </tr>\n",
       "    <tr>\n",
       "      <th>453</th>\n",
       "      <td>2022-10-01</td>\n",
       "      <td>1.0</td>\n",
       "    </tr>\n",
       "    <tr>\n",
       "      <th>454</th>\n",
       "      <td>2022-11-01</td>\n",
       "      <td>0.0</td>\n",
       "    </tr>\n",
       "    <tr>\n",
       "      <th>455</th>\n",
       "      <td>2022-12-01</td>\n",
       "      <td>0.0</td>\n",
       "    </tr>\n",
       "  </tbody>\n",
       "</table>\n",
       "<p>456 rows × 2 columns</p>\n",
       "</div>"
      ],
      "text/plain": [
       "           Time  Apple\n",
       "0    1985-01-01    1.0\n",
       "1    1985-02-01    0.0\n",
       "2    1985-03-01    0.0\n",
       "3    1985-04-01    0.0\n",
       "4    1985-05-01    0.0\n",
       "..          ...    ...\n",
       "451  2022-08-01    0.0\n",
       "452  2022-09-01    0.0\n",
       "453  2022-10-01    1.0\n",
       "454  2022-11-01    0.0\n",
       "455  2022-12-01    0.0\n",
       "\n",
       "[456 rows x 2 columns]"
      ]
     },
     "execution_count": 162,
     "metadata": {},
     "output_type": "execute_result"
    }
   ],
   "source": [
    "data_apple1.columns = ['Time', 'Apple']\n",
    "data_apple1"
   ]
  },
  {
   "cell_type": "code",
   "execution_count": 163,
   "id": "a6a8a2a7",
   "metadata": {},
   "outputs": [],
   "source": [
    "#'Apple' représente l'indice boursier Apple en variable discrète\n",
    "#'Apple2' représente l'indice boursier Apple en variable continue"
   ]
  },
  {
   "cell_type": "markdown",
   "id": "5c5fd25a",
   "metadata": {},
   "source": [
    "#### 1.5) Indice boursier SP500"
   ]
  },
  {
   "cell_type": "code",
   "execution_count": 164,
   "id": "83289620",
   "metadata": {},
   "outputs": [
    {
     "name": "stdout",
     "output_type": "stream",
     "text": [
      "347151600 1672527600\n",
      "https://query1.finance.yahoo.com/v7/finance/download/^GSPC?period1=347151600&period2=1672527600&interval=1mo\n",
      "         Date        Open        High         Low       Close   Adj Close  \\\n",
      "0  1985-01-01  167.199997  180.270004  163.360001  179.630005  179.630005   \n",
      "1  1985-02-01  179.630005  183.949997  177.750000  181.179993  181.179993   \n",
      "2  1985-03-01  181.179993  183.889999  176.529999  180.660004  180.660004   \n",
      "3  1985-04-01  180.660004  183.610001  177.860001  179.830002  179.830002   \n",
      "4  1985-05-01  179.830002  189.979996  178.350006  189.550003  189.550003   \n",
      "\n",
      "       Volume  \n",
      "0  2673710000  \n",
      "1  2194620000  \n",
      "2  2153090000  \n",
      "3  1981880000  \n",
      "4  2350340000  \n"
     ]
    }
   ],
   "source": [
    "#importation données indice boursier SP500\n",
    "\n",
    "headers = {\"User-Agent\" : \"Mozilla/5.0 (Windows NT 10.0; Win64; x64; rv:81.0) Gecko/20100101 Firefox/81.0\"}\n",
    "\n",
    "url_base = \"https://query1.finance.yahoo.com\"\n",
    "\n",
    "# unix timestamp : le nombre de seconde passée de puis le 1 Janvier 1970 00:00:00\n",
    "symbol = \"^GSPC\"\n",
    "period1 = int(dt.datetime(1981,1,1).timestamp())\n",
    "period2 = int(dt.datetime(2023,1,1).timestamp())\n",
    "print(period1, period2)\n",
    "interval = \"1mo\" #fréquence mensuelle : 1 month\n",
    "\n",
    "url_suite = \"/v7/finance/download/%s?period1=%s&period2=%s&interval=%s\" % (symbol, period1, period2, interval)\n",
    "# premier %s = symbol, deuxième %s = period1, etc.....\n",
    "\n",
    "full_url = url_base + url_suite\n",
    "print(full_url)\n",
    "\n",
    "resp = rq.get(full_url, headers=headers).text\n",
    "\n",
    "str_io = StringIO(resp)\n",
    "\n",
    "data_SP500 = pd.read_csv(str_io, sep=\",\")\n",
    "\n",
    "print(data_SP500.head())"
   ]
  },
  {
   "cell_type": "code",
   "execution_count": 165,
   "id": "ea8d013f",
   "metadata": {},
   "outputs": [
    {
     "data": {
      "text/html": [
       "<div>\n",
       "<style scoped>\n",
       "    .dataframe tbody tr th:only-of-type {\n",
       "        vertical-align: middle;\n",
       "    }\n",
       "\n",
       "    .dataframe tbody tr th {\n",
       "        vertical-align: top;\n",
       "    }\n",
       "\n",
       "    .dataframe thead th {\n",
       "        text-align: right;\n",
       "    }\n",
       "</style>\n",
       "<table border=\"1\" class=\"dataframe\">\n",
       "  <thead>\n",
       "    <tr style=\"text-align: right;\">\n",
       "      <th></th>\n",
       "      <th>Date</th>\n",
       "      <th>Close</th>\n",
       "    </tr>\n",
       "  </thead>\n",
       "  <tbody>\n",
       "    <tr>\n",
       "      <th>0</th>\n",
       "      <td>1985-01-01</td>\n",
       "      <td>179.630005</td>\n",
       "    </tr>\n",
       "    <tr>\n",
       "      <th>1</th>\n",
       "      <td>1985-02-01</td>\n",
       "      <td>181.179993</td>\n",
       "    </tr>\n",
       "    <tr>\n",
       "      <th>2</th>\n",
       "      <td>1985-03-01</td>\n",
       "      <td>180.660004</td>\n",
       "    </tr>\n",
       "    <tr>\n",
       "      <th>3</th>\n",
       "      <td>1985-04-01</td>\n",
       "      <td>179.830002</td>\n",
       "    </tr>\n",
       "    <tr>\n",
       "      <th>4</th>\n",
       "      <td>1985-05-01</td>\n",
       "      <td>189.550003</td>\n",
       "    </tr>\n",
       "    <tr>\n",
       "      <th>...</th>\n",
       "      <td>...</td>\n",
       "      <td>...</td>\n",
       "    </tr>\n",
       "    <tr>\n",
       "      <th>451</th>\n",
       "      <td>2022-08-01</td>\n",
       "      <td>3955.000000</td>\n",
       "    </tr>\n",
       "    <tr>\n",
       "      <th>452</th>\n",
       "      <td>2022-09-01</td>\n",
       "      <td>3585.620117</td>\n",
       "    </tr>\n",
       "    <tr>\n",
       "      <th>453</th>\n",
       "      <td>2022-10-01</td>\n",
       "      <td>3871.979980</td>\n",
       "    </tr>\n",
       "    <tr>\n",
       "      <th>454</th>\n",
       "      <td>2022-11-01</td>\n",
       "      <td>4080.110107</td>\n",
       "    </tr>\n",
       "    <tr>\n",
       "      <th>455</th>\n",
       "      <td>2022-12-01</td>\n",
       "      <td>3839.500000</td>\n",
       "    </tr>\n",
       "  </tbody>\n",
       "</table>\n",
       "<p>456 rows × 2 columns</p>\n",
       "</div>"
      ],
      "text/plain": [
       "           Date        Close\n",
       "0    1985-01-01   179.630005\n",
       "1    1985-02-01   181.179993\n",
       "2    1985-03-01   180.660004\n",
       "3    1985-04-01   179.830002\n",
       "4    1985-05-01   189.550003\n",
       "..          ...          ...\n",
       "451  2022-08-01  3955.000000\n",
       "452  2022-09-01  3585.620117\n",
       "453  2022-10-01  3871.979980\n",
       "454  2022-11-01  4080.110107\n",
       "455  2022-12-01  3839.500000\n",
       "\n",
       "[456 rows x 2 columns]"
      ]
     },
     "execution_count": 165,
     "metadata": {},
     "output_type": "execute_result"
    }
   ],
   "source": [
    "data_SP500 = data_SP500.drop(['Open', 'High', 'Low', 'Adj Close', 'Volume'], axis=1)\n",
    "data_SP500"
   ]
  },
  {
   "cell_type": "code",
   "execution_count": 166,
   "id": "7aafce6a",
   "metadata": {},
   "outputs": [
    {
     "data": {
      "text/html": [
       "<div>\n",
       "<style scoped>\n",
       "    .dataframe tbody tr th:only-of-type {\n",
       "        vertical-align: middle;\n",
       "    }\n",
       "\n",
       "    .dataframe tbody tr th {\n",
       "        vertical-align: top;\n",
       "    }\n",
       "\n",
       "    .dataframe thead th {\n",
       "        text-align: right;\n",
       "    }\n",
       "</style>\n",
       "<table border=\"1\" class=\"dataframe\">\n",
       "  <thead>\n",
       "    <tr style=\"text-align: right;\">\n",
       "      <th></th>\n",
       "      <th>Time</th>\n",
       "      <th>SP500</th>\n",
       "    </tr>\n",
       "  </thead>\n",
       "  <tbody>\n",
       "    <tr>\n",
       "      <th>0</th>\n",
       "      <td>1985-01-01</td>\n",
       "      <td>179.630005</td>\n",
       "    </tr>\n",
       "    <tr>\n",
       "      <th>1</th>\n",
       "      <td>1985-02-01</td>\n",
       "      <td>181.179993</td>\n",
       "    </tr>\n",
       "    <tr>\n",
       "      <th>2</th>\n",
       "      <td>1985-03-01</td>\n",
       "      <td>180.660004</td>\n",
       "    </tr>\n",
       "    <tr>\n",
       "      <th>3</th>\n",
       "      <td>1985-04-01</td>\n",
       "      <td>179.830002</td>\n",
       "    </tr>\n",
       "    <tr>\n",
       "      <th>4</th>\n",
       "      <td>1985-05-01</td>\n",
       "      <td>189.550003</td>\n",
       "    </tr>\n",
       "    <tr>\n",
       "      <th>...</th>\n",
       "      <td>...</td>\n",
       "      <td>...</td>\n",
       "    </tr>\n",
       "    <tr>\n",
       "      <th>451</th>\n",
       "      <td>2022-08-01</td>\n",
       "      <td>3955.000000</td>\n",
       "    </tr>\n",
       "    <tr>\n",
       "      <th>452</th>\n",
       "      <td>2022-09-01</td>\n",
       "      <td>3585.620117</td>\n",
       "    </tr>\n",
       "    <tr>\n",
       "      <th>453</th>\n",
       "      <td>2022-10-01</td>\n",
       "      <td>3871.979980</td>\n",
       "    </tr>\n",
       "    <tr>\n",
       "      <th>454</th>\n",
       "      <td>2022-11-01</td>\n",
       "      <td>4080.110107</td>\n",
       "    </tr>\n",
       "    <tr>\n",
       "      <th>455</th>\n",
       "      <td>2022-12-01</td>\n",
       "      <td>3839.500000</td>\n",
       "    </tr>\n",
       "  </tbody>\n",
       "</table>\n",
       "<p>456 rows × 2 columns</p>\n",
       "</div>"
      ],
      "text/plain": [
       "           Time        SP500\n",
       "0    1985-01-01   179.630005\n",
       "1    1985-02-01   181.179993\n",
       "2    1985-03-01   180.660004\n",
       "3    1985-04-01   179.830002\n",
       "4    1985-05-01   189.550003\n",
       "..          ...          ...\n",
       "451  2022-08-01  3955.000000\n",
       "452  2022-09-01  3585.620117\n",
       "453  2022-10-01  3871.979980\n",
       "454  2022-11-01  4080.110107\n",
       "455  2022-12-01  3839.500000\n",
       "\n",
       "[456 rows x 2 columns]"
      ]
     },
     "execution_count": 166,
     "metadata": {},
     "output_type": "execute_result"
    }
   ],
   "source": [
    "#On renomme les colonnes du dataframe\n",
    "\n",
    "data_SP500.columns = ['Time', 'SP500']\n",
    "data_SP500"
   ]
  },
  {
   "cell_type": "markdown",
   "id": "464ccff5",
   "metadata": {},
   "source": [
    "#### 1.6) Dataframe final"
   ]
  },
  {
   "cell_type": "code",
   "execution_count": 167,
   "id": "44ac9674",
   "metadata": {
    "scrolled": false
   },
   "outputs": [
    {
     "data": {
      "text/html": [
       "<div>\n",
       "<style scoped>\n",
       "    .dataframe tbody tr th:only-of-type {\n",
       "        vertical-align: middle;\n",
       "    }\n",
       "\n",
       "    .dataframe tbody tr th {\n",
       "        vertical-align: top;\n",
       "    }\n",
       "\n",
       "    .dataframe thead th {\n",
       "        text-align: right;\n",
       "    }\n",
       "</style>\n",
       "<table border=\"1\" class=\"dataframe\">\n",
       "  <thead>\n",
       "    <tr style=\"text-align: right;\">\n",
       "      <th></th>\n",
       "      <th>Time</th>\n",
       "      <th>Treasury_Yield</th>\n",
       "      <th>Federal_Funds_Rate</th>\n",
       "      <th>Inflation</th>\n",
       "      <th>SP500</th>\n",
       "      <th>Apple2</th>\n",
       "    </tr>\n",
       "  </thead>\n",
       "  <tbody>\n",
       "    <tr>\n",
       "      <th>0</th>\n",
       "      <td>2022-12-01</td>\n",
       "      <td>4.29</td>\n",
       "      <td>4.10</td>\n",
       "      <td>-0.003070</td>\n",
       "      <td>3839.500000</td>\n",
       "      <td>129.929993</td>\n",
       "    </tr>\n",
       "    <tr>\n",
       "      <th>1</th>\n",
       "      <td>2022-11-01</td>\n",
       "      <td>4.50</td>\n",
       "      <td>3.78</td>\n",
       "      <td>-0.001010</td>\n",
       "      <td>4080.110107</td>\n",
       "      <td>148.029999</td>\n",
       "    </tr>\n",
       "    <tr>\n",
       "      <th>2</th>\n",
       "      <td>2022-10-01</td>\n",
       "      <td>4.38</td>\n",
       "      <td>3.08</td>\n",
       "      <td>0.004056</td>\n",
       "      <td>3871.979980</td>\n",
       "      <td>153.339996</td>\n",
       "    </tr>\n",
       "    <tr>\n",
       "      <th>3</th>\n",
       "      <td>2022-09-01</td>\n",
       "      <td>3.86</td>\n",
       "      <td>2.56</td>\n",
       "      <td>0.002151</td>\n",
       "      <td>3585.620117</td>\n",
       "      <td>138.199997</td>\n",
       "    </tr>\n",
       "    <tr>\n",
       "      <th>4</th>\n",
       "      <td>2022-08-01</td>\n",
       "      <td>3.25</td>\n",
       "      <td>2.33</td>\n",
       "      <td>-0.000354</td>\n",
       "      <td>3955.000000</td>\n",
       "      <td>157.220001</td>\n",
       "    </tr>\n",
       "    <tr>\n",
       "      <th>...</th>\n",
       "      <td>...</td>\n",
       "      <td>...</td>\n",
       "      <td>...</td>\n",
       "      <td>...</td>\n",
       "      <td>...</td>\n",
       "      <td>...</td>\n",
       "    </tr>\n",
       "    <tr>\n",
       "      <th>450</th>\n",
       "      <td>1985-06-01</td>\n",
       "      <td>8.69</td>\n",
       "      <td>7.53</td>\n",
       "      <td>0.002796</td>\n",
       "      <td>191.850006</td>\n",
       "      <td>0.080357</td>\n",
       "    </tr>\n",
       "    <tr>\n",
       "      <th>451</th>\n",
       "      <td>1985-05-01</td>\n",
       "      <td>9.39</td>\n",
       "      <td>7.97</td>\n",
       "      <td>0.003742</td>\n",
       "      <td>189.550003</td>\n",
       "      <td>0.077567</td>\n",
       "    </tr>\n",
       "    <tr>\n",
       "      <th>452</th>\n",
       "      <td>1985-04-01</td>\n",
       "      <td>10.09</td>\n",
       "      <td>8.27</td>\n",
       "      <td>0.004699</td>\n",
       "      <td>179.830002</td>\n",
       "      <td>0.094866</td>\n",
       "    </tr>\n",
       "    <tr>\n",
       "      <th>453</th>\n",
       "      <td>1985-03-01</td>\n",
       "      <td>10.71</td>\n",
       "      <td>8.58</td>\n",
       "      <td>0.003774</td>\n",
       "      <td>180.660004</td>\n",
       "      <td>0.098772</td>\n",
       "    </tr>\n",
       "    <tr>\n",
       "      <th>454</th>\n",
       "      <td>1985-02-01</td>\n",
       "      <td>10.17</td>\n",
       "      <td>8.50</td>\n",
       "      <td>0.004739</td>\n",
       "      <td>181.179993</td>\n",
       "      <td>0.110491</td>\n",
       "    </tr>\n",
       "  </tbody>\n",
       "</table>\n",
       "<p>455 rows × 6 columns</p>\n",
       "</div>"
      ],
      "text/plain": [
       "           Time  Treasury_Yield  Federal_Funds_Rate  Inflation        SP500  \\\n",
       "0    2022-12-01            4.29                4.10  -0.003070  3839.500000   \n",
       "1    2022-11-01            4.50                3.78  -0.001010  4080.110107   \n",
       "2    2022-10-01            4.38                3.08   0.004056  3871.979980   \n",
       "3    2022-09-01            3.86                2.56   0.002151  3585.620117   \n",
       "4    2022-08-01            3.25                2.33  -0.000354  3955.000000   \n",
       "..          ...             ...                 ...        ...          ...   \n",
       "450  1985-06-01            8.69                7.53   0.002796   191.850006   \n",
       "451  1985-05-01            9.39                7.97   0.003742   189.550003   \n",
       "452  1985-04-01           10.09                8.27   0.004699   179.830002   \n",
       "453  1985-03-01           10.71                8.58   0.003774   180.660004   \n",
       "454  1985-02-01           10.17                8.50   0.004739   181.179993   \n",
       "\n",
       "         Apple2  \n",
       "0    129.929993  \n",
       "1    148.029999  \n",
       "2    153.339996  \n",
       "3    138.199997  \n",
       "4    157.220001  \n",
       "..          ...  \n",
       "450    0.080357  \n",
       "451    0.077567  \n",
       "452    0.094866  \n",
       "453    0.098772  \n",
       "454    0.110491  \n",
       "\n",
       "[455 rows x 6 columns]"
      ]
     },
     "execution_count": 167,
     "metadata": {},
     "output_type": "execute_result"
    }
   ],
   "source": [
    "#Dataframe final (on rassemble toutes les données en un seul dataframe), avec Y : variable continue\n",
    "\n",
    "df1 = pd.merge(data_TY, data_FF, on='Time')\n",
    "df2 = pd.merge(data_inflation2, data_SP500, on='Time')\n",
    "df3 = pd.merge(df1, df2, on='Time')\n",
    "df_reg = pd.merge(df3, data_apple, on='Time')\n",
    "df_reg"
   ]
  },
  {
   "cell_type": "code",
   "execution_count": 168,
   "id": "a20922f9",
   "metadata": {},
   "outputs": [],
   "source": [
    "#exporter le dataframe en csv\n",
    "csv_data_reg = df_reg.to_csv('df_reg.csv', index=True)"
   ]
  },
  {
   "cell_type": "code",
   "execution_count": 169,
   "id": "2305948a",
   "metadata": {
    "scrolled": false
   },
   "outputs": [
    {
     "data": {
      "text/html": [
       "<div>\n",
       "<style scoped>\n",
       "    .dataframe tbody tr th:only-of-type {\n",
       "        vertical-align: middle;\n",
       "    }\n",
       "\n",
       "    .dataframe tbody tr th {\n",
       "        vertical-align: top;\n",
       "    }\n",
       "\n",
       "    .dataframe thead th {\n",
       "        text-align: right;\n",
       "    }\n",
       "</style>\n",
       "<table border=\"1\" class=\"dataframe\">\n",
       "  <thead>\n",
       "    <tr style=\"text-align: right;\">\n",
       "      <th></th>\n",
       "      <th>Time</th>\n",
       "      <th>Treasury_Yield</th>\n",
       "      <th>Federal_Funds_Rate</th>\n",
       "      <th>Inflation</th>\n",
       "      <th>SP500</th>\n",
       "      <th>Apple</th>\n",
       "    </tr>\n",
       "  </thead>\n",
       "  <tbody>\n",
       "    <tr>\n",
       "      <th>0</th>\n",
       "      <td>2022-12-01</td>\n",
       "      <td>4.29</td>\n",
       "      <td>4.10</td>\n",
       "      <td>-0.003070</td>\n",
       "      <td>3839.500000</td>\n",
       "      <td>0.0</td>\n",
       "    </tr>\n",
       "    <tr>\n",
       "      <th>1</th>\n",
       "      <td>2022-11-01</td>\n",
       "      <td>4.50</td>\n",
       "      <td>3.78</td>\n",
       "      <td>-0.001010</td>\n",
       "      <td>4080.110107</td>\n",
       "      <td>0.0</td>\n",
       "    </tr>\n",
       "    <tr>\n",
       "      <th>2</th>\n",
       "      <td>2022-10-01</td>\n",
       "      <td>4.38</td>\n",
       "      <td>3.08</td>\n",
       "      <td>0.004056</td>\n",
       "      <td>3871.979980</td>\n",
       "      <td>1.0</td>\n",
       "    </tr>\n",
       "    <tr>\n",
       "      <th>3</th>\n",
       "      <td>2022-09-01</td>\n",
       "      <td>3.86</td>\n",
       "      <td>2.56</td>\n",
       "      <td>0.002151</td>\n",
       "      <td>3585.620117</td>\n",
       "      <td>0.0</td>\n",
       "    </tr>\n",
       "    <tr>\n",
       "      <th>4</th>\n",
       "      <td>2022-08-01</td>\n",
       "      <td>3.25</td>\n",
       "      <td>2.33</td>\n",
       "      <td>-0.000354</td>\n",
       "      <td>3955.000000</td>\n",
       "      <td>0.0</td>\n",
       "    </tr>\n",
       "    <tr>\n",
       "      <th>...</th>\n",
       "      <td>...</td>\n",
       "      <td>...</td>\n",
       "      <td>...</td>\n",
       "      <td>...</td>\n",
       "      <td>...</td>\n",
       "      <td>...</td>\n",
       "    </tr>\n",
       "    <tr>\n",
       "      <th>450</th>\n",
       "      <td>1985-06-01</td>\n",
       "      <td>8.69</td>\n",
       "      <td>7.53</td>\n",
       "      <td>0.002796</td>\n",
       "      <td>191.850006</td>\n",
       "      <td>1.0</td>\n",
       "    </tr>\n",
       "    <tr>\n",
       "      <th>451</th>\n",
       "      <td>1985-05-01</td>\n",
       "      <td>9.39</td>\n",
       "      <td>7.97</td>\n",
       "      <td>0.003742</td>\n",
       "      <td>189.550003</td>\n",
       "      <td>0.0</td>\n",
       "    </tr>\n",
       "    <tr>\n",
       "      <th>452</th>\n",
       "      <td>1985-04-01</td>\n",
       "      <td>10.09</td>\n",
       "      <td>8.27</td>\n",
       "      <td>0.004699</td>\n",
       "      <td>179.830002</td>\n",
       "      <td>0.0</td>\n",
       "    </tr>\n",
       "    <tr>\n",
       "      <th>453</th>\n",
       "      <td>1985-03-01</td>\n",
       "      <td>10.71</td>\n",
       "      <td>8.58</td>\n",
       "      <td>0.003774</td>\n",
       "      <td>180.660004</td>\n",
       "      <td>0.0</td>\n",
       "    </tr>\n",
       "    <tr>\n",
       "      <th>454</th>\n",
       "      <td>1985-02-01</td>\n",
       "      <td>10.17</td>\n",
       "      <td>8.50</td>\n",
       "      <td>0.004739</td>\n",
       "      <td>181.179993</td>\n",
       "      <td>0.0</td>\n",
       "    </tr>\n",
       "  </tbody>\n",
       "</table>\n",
       "<p>455 rows × 6 columns</p>\n",
       "</div>"
      ],
      "text/plain": [
       "           Time  Treasury_Yield  Federal_Funds_Rate  Inflation        SP500  \\\n",
       "0    2022-12-01            4.29                4.10  -0.003070  3839.500000   \n",
       "1    2022-11-01            4.50                3.78  -0.001010  4080.110107   \n",
       "2    2022-10-01            4.38                3.08   0.004056  3871.979980   \n",
       "3    2022-09-01            3.86                2.56   0.002151  3585.620117   \n",
       "4    2022-08-01            3.25                2.33  -0.000354  3955.000000   \n",
       "..          ...             ...                 ...        ...          ...   \n",
       "450  1985-06-01            8.69                7.53   0.002796   191.850006   \n",
       "451  1985-05-01            9.39                7.97   0.003742   189.550003   \n",
       "452  1985-04-01           10.09                8.27   0.004699   179.830002   \n",
       "453  1985-03-01           10.71                8.58   0.003774   180.660004   \n",
       "454  1985-02-01           10.17                8.50   0.004739   181.179993   \n",
       "\n",
       "     Apple  \n",
       "0      0.0  \n",
       "1      0.0  \n",
       "2      1.0  \n",
       "3      0.0  \n",
       "4      0.0  \n",
       "..     ...  \n",
       "450    1.0  \n",
       "451    0.0  \n",
       "452    0.0  \n",
       "453    0.0  \n",
       "454    0.0  \n",
       "\n",
       "[455 rows x 6 columns]"
      ]
     },
     "execution_count": 169,
     "metadata": {},
     "output_type": "execute_result"
    }
   ],
   "source": [
    "#Dataframe final (on rassemble toutes les données en un seul dataframe), avec Y : variable discrète\n",
    "\n",
    "df_clas = pd.merge(df3, data_apple1, on='Time')\n",
    "df_clas"
   ]
  },
  {
   "cell_type": "code",
   "execution_count": 170,
   "id": "2a65e61f",
   "metadata": {},
   "outputs": [],
   "source": [
    "#exporter le dataframe en csv\n",
    "csv_data_clas = df_clas.to_csv('df_clas.csv', index=True)"
   ]
  },
  {
   "cell_type": "markdown",
   "id": "b40c23f6",
   "metadata": {},
   "source": [
    "#### 1.7) Relations entre les variables du Dataframe"
   ]
  },
  {
   "cell_type": "code",
   "execution_count": 171,
   "id": "c526dc4a",
   "metadata": {},
   "outputs": [],
   "source": [
    "#Représentations graphiques des variables du dataframe"
   ]
  },
  {
   "cell_type": "code",
   "execution_count": 172,
   "id": "7fad6bdb",
   "metadata": {
    "scrolled": true
   },
   "outputs": [
    {
     "data": {
      "text/plain": [
       "<AxesSubplot:title={'center':'FEDERAL_FUNDS_RATE'}>"
      ]
     },
     "execution_count": 172,
     "metadata": {},
     "output_type": "execute_result"
    },
    {
     "data": {
      "image/png": "[encoded data removed]",
      "text/plain": [
       "<Figure size 1440x432 with 3 Axes>"
      ]
     },
     "metadata": {
      "needs_background": "light"
     },
     "output_type": "display_data"
    }
   ],
   "source": [
    "plt.figure(figsize = (20,6))\n",
    "\n",
    "plt.subplot(1,3,1)\n",
    "plt.title('INFLATION')\n",
    "graph_inflation = df_reg['Inflation']\n",
    "fig1 = plt.gcf() #pour exporter la figure par la suite \n",
    "graph_inflation.plot()\n",
    "\n",
    "plt.subplot(1,3,2)\n",
    "plt.title('TREASURY_YIELD')\n",
    "graph_TY = df_reg['Treasury_Yield']\n",
    "fig2 = plt.gcf() \n",
    "graph_TY.plot()\n",
    "\n",
    "plt.subplot(1,3,3)\n",
    "plt.title('FEDERAL_FUNDS_RATE')\n",
    "graph_FFR = df_reg['Federal_Funds_Rate']\n",
    "fig3 = plt.gcf() \n",
    "graph_FFR.plot()"
   ]
  },
  {
   "cell_type": "code",
   "execution_count": 173,
   "id": "96bf17fd",
   "metadata": {},
   "outputs": [],
   "source": [
    "#exporter les graphiques\n",
    "fig1.savefig(\"Graph1.png\", dpi=300)\n",
    "fig2.savefig(\"Graph2.png\", dpi=300)\n",
    "fig3.savefig(\"Graph3.png\", dpi=300)"
   ]
  },
  {
   "cell_type": "markdown",
   "id": "db74028a",
   "metadata": {},
   "source": [
    "Interprétation : on remarque déjà une corrélation importante entre le Treasury Yield et Federal Funds Rate (les graphiques semblent très similaires)"
   ]
  },
  {
   "cell_type": "code",
   "execution_count": 174,
   "id": "73c1f27b",
   "metadata": {
    "scrolled": true
   },
   "outputs": [
    {
     "data": {
      "text/plain": [
       "<AxesSubplot:title={'center':'APPLE'}>"
      ]
     },
     "execution_count": 174,
     "metadata": {},
     "output_type": "execute_result"
    },
    {
     "data": {
      "image/png": "[encoded data removed]",
      "text/plain": [
       "<Figure size 1440x432 with 2 Axes>"
      ]
     },
     "metadata": {
      "needs_background": "light"
     },
     "output_type": "display_data"
    }
   ],
   "source": [
    "plt.figure(figsize = (20,6))\n",
    "\n",
    "plt.subplot(1,2,1)\n",
    "plt.title('SP500')\n",
    "graph_SP500 = df_reg['SP500']\n",
    "fig4 = plt.gcf() #pour exporter la figure par la suite \n",
    "graph_SP500.plot()\n",
    "\n",
    "plt.subplot(1,2,2)\n",
    "plt.title('APPLE')\n",
    "graph_Apple = df_reg['Apple2']\n",
    "fig5 = plt.gcf()\n",
    "graph_Apple.plot()"
   ]
  },
  {
   "cell_type": "markdown",
   "id": "9b18aa97",
   "metadata": {},
   "source": [
    "Interprétation : De la même manière, les graphiques du SP500 et Apple sont similaires. il existerait donc une forte corrélation entre les deux variables.\n",
    "On peut également noter qu'il existe une relation négative entre les indices boursiers Apple et SP500, avec le Treasury Yield et Federal Funds Rate.\n",
    "Par contre, on ne remarque pas tout de suite la relation qu'il pourrait y avoir entre inflation et indice boursier Apple"
   ]
  },
  {
   "cell_type": "code",
   "execution_count": 175,
   "id": "d395e14c",
   "metadata": {},
   "outputs": [],
   "source": [
    "#exporter les graphiques\n",
    "fig4.savefig(\"Graph4.png\", dpi=300)\n",
    "fig5.savefig(\"Graph5.png\", dpi=300)"
   ]
  },
  {
   "cell_type": "code",
   "execution_count": 176,
   "id": "4eb07371",
   "metadata": {},
   "outputs": [
    {
     "data": {
      "image/png": "[encoded data removed]",
      "text/plain": [
       "<Figure size 864x720 with 25 Axes>"
      ]
     },
     "metadata": {
      "needs_background": "light"
     },
     "output_type": "display_data"
    }
   ],
   "source": [
    "#Relations entre les variables du dataframe\n",
    "\n",
    "#pip install mlxtend\n",
    "\n",
    "cols = ['Treasury_Yield', 'Federal_Funds_Rate', 'Inflation', 'SP500', 'Apple2']\n",
    "\n",
    "scatterplotmatrix(df_reg[cols].values, figsize=(12, 10), names=cols, alpha=0.5)\n",
    "plt.tight_layout()\n",
    "fig6 = plt.gcf() #pour exporter la figure par la suite\n",
    "plt.show()"
   ]
  },
  {
   "cell_type": "code",
   "execution_count": 177,
   "id": "e3c27530",
   "metadata": {},
   "outputs": [],
   "source": [
    "#exporter le graphique\n",
    "fig6.savefig(\"Graph6.png\", dpi=300)"
   ]
  },
  {
   "cell_type": "code",
   "execution_count": 178,
   "id": "c95ab02b",
   "metadata": {
    "scrolled": true
   },
   "outputs": [
    {
     "data": {
      "image/png": "[encoded data removed]",
      "text/plain": [
       "<Figure size 432x288 with 2 Axes>"
      ]
     },
     "metadata": {
      "needs_background": "light"
     },
     "output_type": "display_data"
    }
   ],
   "source": [
    "#Matrice de corrélation\n",
    "\n",
    "cm = np.corrcoef(df_reg[cols].values.T)\n",
    "hm = heatmap(cm, row_names=cols, column_names=cols)\n",
    "matrice_corr = plt.gcf() #pour exporter la matrice de corrélation\n",
    "plt.show()"
   ]
  },
  {
   "cell_type": "markdown",
   "id": "fb7a30fb",
   "metadata": {},
   "source": [
    "Interprétation : Cela ne fait pas forcément sens d'utiliser l'inflation pour expliquer l'indice boursier Apple car la \n",
    "la corrélation est très faible entre les 2 variables. On verra par la suite si l'ajout de l'inflation est réellement utile pour prédire l'indice boursier Apple. Sinon, on peut trouver une corrélation très positive et proche de 1 entre Apple et SP500. On remarque une corrélation négative entre Apple et le Treasury Yied + Federal Funds Rate (relation inverse entre taux d'intérêt et indices boursiers)."
   ]
  },
  {
   "cell_type": "code",
   "execution_count": 179,
   "id": "851bc1fc",
   "metadata": {},
   "outputs": [],
   "source": [
    "#exporter la matrice de corrélation\n",
    "matrice_corr.savefig(\"Matrice_Corrélation.png\", dpi=300)"
   ]
  },
  {
   "cell_type": "markdown",
   "id": "578fe838",
   "metadata": {},
   "source": [
    "### <u>2) Classification<u>"
   ]
  },
  {
   "cell_type": "markdown",
   "id": "6a2ddfa9",
   "metadata": {},
   "source": [
    "#### 2.1) Dataframe équilibré/déséquilibré ?"
   ]
  },
  {
   "cell_type": "code",
   "execution_count": 180,
   "id": "6797a0eb",
   "metadata": {
    "scrolled": true
   },
   "outputs": [
    {
     "data": {
      "text/plain": [
       "1.0    255\n",
       "0.0    200\n",
       "Name: Apple, dtype: int64"
      ]
     },
     "execution_count": 180,
     "metadata": {},
     "output_type": "execute_result"
    }
   ],
   "source": [
    "df_clas['Apple'].value_counts()"
   ]
  },
  {
   "cell_type": "code",
   "execution_count": 181,
   "id": "30278d4c",
   "metadata": {},
   "outputs": [
    {
     "data": {
      "text/plain": [
       "<Figure size 432x288 with 0 Axes>"
      ]
     },
     "metadata": {},
     "output_type": "display_data"
    },
    {
     "data": {
      "image/png": "[encoded data removed]",
      "text/plain": [
       "<Figure size 720x360 with 1 Axes>"
      ]
     },
     "metadata": {
      "needs_background": "light"
     },
     "output_type": "display_data"
    }
   ],
   "source": [
    "fig7 = plt.gcf() #pour exporter le graphique\n",
    "plt.figure(figsize = (10,5))\n",
    "ax = sns.countplot(df_clas['Apple'], palette='Set3')\n",
    "\n",
    "ax.set_title('Rendements positifs vs négatifs',fontsize = 20)\n",
    "ax.set_xlabel('Status',fontsize = 15)\n",
    "ax.set_ylabel('Count',fontsize = 15)\n",
    "ax.set_xticklabels(['Rdts négatifs','Rdts positifs'],fontsize = 13)\n",
    "\n",
    "# adding percentage to the top of each bar\n",
    "total = float(len(df_clas))\n",
    "for p in ax.patches:\n",
    "    height = p.get_height()\n",
    "    ax.text(p.get_x()+p.get_width()/2.,\n",
    "            height + 3,\n",
    "            '{:1.2f}'.format(height/total * 100) + '%',\n",
    "            ha=\"center\") "
   ]
  },
  {
   "cell_type": "markdown",
   "id": "9431c92f",
   "metadata": {},
   "source": [
    "Il y a donc dans le dataframe 255 rendements positifs (56,04%) et 200 rendements négatifs (43,96%), donc pas besoin de faire un rééquilibrage du dataframe."
   ]
  },
  {
   "cell_type": "code",
   "execution_count": 182,
   "id": "97383829",
   "metadata": {},
   "outputs": [],
   "source": [
    "#exporter le graphique\n",
    "fig7.savefig(\"Graph7.png\", dpi=300)"
   ]
  },
  {
   "cell_type": "markdown",
   "id": "4d1eed09",
   "metadata": {},
   "source": [
    "#### 2.2) Séparation des features et label"
   ]
  },
  {
   "cell_type": "code",
   "execution_count": 183,
   "id": "6bc224c1",
   "metadata": {},
   "outputs": [],
   "source": [
    "#On sépare les variables explicatives et la variable expliquée\n",
    "\n",
    "labels = np.array(df_clas.Apple)\n",
    "features = np.array(df_clas[['Treasury_Yield','Federal_Funds_Rate', 'Inflation', 'SP500']])"
   ]
  },
  {
   "cell_type": "markdown",
   "id": "2bc22b8c",
   "metadata": {},
   "source": [
    "#### 2.3) Séparation du dataframe en échantillon train / test"
   ]
  },
  {
   "cell_type": "code",
   "execution_count": 184,
   "id": "c8f7cf1b",
   "metadata": {},
   "outputs": [],
   "source": [
    "#On sépare le dataframe en échantillon train et test\n",
    "\n",
    "train_features_clas, test_features_clas, train_labels_clas, test_labels_clas = train_test_split(\n",
    "    features, labels, test_size = 0.25, random_state = 110)"
   ]
  },
  {
   "cell_type": "markdown",
   "id": "06ab36e2",
   "metadata": {},
   "source": [
    "#### 2.4) Modèles de classification"
   ]
  },
  {
   "cell_type": "markdown",
   "id": "0cb95238",
   "metadata": {},
   "source": [
    "##### 2.4.1) Avec la variable inflation"
   ]
  },
  {
   "cell_type": "markdown",
   "id": "ac670179",
   "metadata": {},
   "source": [
    "##### Modèle KNN"
   ]
  },
  {
   "cell_type": "code",
   "execution_count": 185,
   "id": "90ac7304",
   "metadata": {},
   "outputs": [
    {
     "name": "stdout",
     "output_type": "stream",
     "text": [
      "Global accuracy with training sample - KNN:  0.5483870967741935\n"
     ]
    }
   ],
   "source": [
    "#Entrainement du modèle sur échantillon train\n",
    "\n",
    "knn = KNeighborsClassifier(n_neighbors=14,weights='distance',n_jobs=12)\n",
    "scaler = StandardScaler() \n",
    "scaler.fit(train_features_clas) #pour standardiser les variables explicatives\n",
    "knn.fit(scaler.transform(train_features_clas), train_labels_clas)\n",
    "\n",
    "y_predict_train = knn.predict(train_features_clas)\n",
    "print('Global accuracy with training sample - KNN: ',accuracy_score(train_labels_clas,y_predict_train))"
   ]
  },
  {
   "cell_type": "code",
   "execution_count": 186,
   "id": "7b16788d",
   "metadata": {},
   "outputs": [
    {
     "name": "stdout",
     "output_type": "stream",
     "text": [
      "Global accuracy with testing sample - KNN:  0.5614035087719298\n"
     ]
    }
   ],
   "source": [
    "#Prédiction avec échantillon test\n",
    "\n",
    "y_predict_test = knn.predict(scaler.transform(test_features_clas))\n",
    "print('Global accuracy with testing sample - KNN: ',accuracy_score(test_labels_clas,y_predict_test))"
   ]
  },
  {
   "cell_type": "code",
   "execution_count": 187,
   "id": "cc11a534",
   "metadata": {},
   "outputs": [],
   "source": [
    "# Optimisation de l'hyperparamètre n_neighbors par la cross validation\n",
    "\n",
    "neighbors = [x for x in range(1,50)]\n",
    "cv_scores = []\n",
    "for k in neighbors:\n",
    "    knn = KNeighborsClassifier(n_neighbors=k)\n",
    "    scores = cross_val_score(knn,scaler.transform(train_features_clas), train_labels_clas, cv=5) \n",
    "    cv_scores.append(scores.mean())"
   ]
  },
  {
   "cell_type": "code",
   "execution_count": 188,
   "id": "e38c9a88",
   "metadata": {},
   "outputs": [
    {
     "name": "stdout",
     "output_type": "stream",
     "text": [
      "Le nombre de voisins optimal est :  3\n"
     ]
    }
   ],
   "source": [
    "print('Le nombre de voisins optimal est : ', neighbors[np.array(cv_scores).argmax()])"
   ]
  },
  {
   "cell_type": "code",
   "execution_count": 189,
   "id": "ce22d06b",
   "metadata": {},
   "outputs": [
    {
     "name": "stdout",
     "output_type": "stream",
     "text": [
      "Global accuracy with training sample - KNN:  0.5483870967741935\n",
      "Global accuracy with testing sample - KNN:  0.5701754385964912\n"
     ]
    }
   ],
   "source": [
    "#Lancement du KNN après optimisation de l'hyperparamètre (3) :\n",
    "\n",
    "knn = KNeighborsClassifier(n_neighbors=3)\n",
    "knn.fit(scaler.transform(train_features_clas),train_labels_clas)\n",
    "y_predict_train=knn.predict(train_features_clas)\n",
    "y_predict_test=knn.predict(scaler.transform(test_features_clas))\n",
    "print('Global accuracy with training sample - KNN: ',accuracy_score(train_labels_clas, y_predict_train, normalize=True))\n",
    "print('Global accuracy with testing sample - KNN: ',accuracy_score(test_labels_clas, y_predict_test, normalize=True))"
   ]
  },
  {
   "cell_type": "code",
   "execution_count": 190,
   "id": "15dcff8c",
   "metadata": {
    "scrolled": true
   },
   "outputs": [
    {
     "name": "stdout",
     "output_type": "stream",
     "text": [
      "Out-sample good classification for negativ return - KNN:  41.3 %\n",
      "Out-sample good classification for positiv return - KNN:  67.65 %\n"
     ]
    },
    {
     "data": {
      "text/html": [
       "<div>\n",
       "<style scoped>\n",
       "    .dataframe tbody tr th:only-of-type {\n",
       "        vertical-align: middle;\n",
       "    }\n",
       "\n",
       "    .dataframe tbody tr th {\n",
       "        vertical-align: top;\n",
       "    }\n",
       "\n",
       "    .dataframe thead th {\n",
       "        text-align: right;\n",
       "    }\n",
       "</style>\n",
       "<table border=\"1\" class=\"dataframe\">\n",
       "  <thead>\n",
       "    <tr style=\"text-align: right;\">\n",
       "      <th>col_0</th>\n",
       "      <th>0.0</th>\n",
       "      <th>1.0</th>\n",
       "    </tr>\n",
       "    <tr>\n",
       "      <th>row_0</th>\n",
       "      <th></th>\n",
       "      <th></th>\n",
       "    </tr>\n",
       "  </thead>\n",
       "  <tbody>\n",
       "    <tr>\n",
       "      <th>0.0</th>\n",
       "      <td>19</td>\n",
       "      <td>27</td>\n",
       "    </tr>\n",
       "    <tr>\n",
       "      <th>1.0</th>\n",
       "      <td>22</td>\n",
       "      <td>46</td>\n",
       "    </tr>\n",
       "  </tbody>\n",
       "</table>\n",
       "</div>"
      ],
      "text/plain": [
       "col_0  0.0  1.0\n",
       "row_0          \n",
       "0.0     19   27\n",
       "1.0     22   46"
      ]
     },
     "execution_count": 190,
     "metadata": {},
     "output_type": "execute_result"
    }
   ],
   "source": [
    "#Matrice de confusion :\n",
    "\n",
    "cross_tab_out = pd.crosstab(test_labels_clas,y_predict_test).values\n",
    "\n",
    "a = cross_tab_out[0,0]\n",
    "b = cross_tab_out[0,1]\n",
    "c = cross_tab_out[1,0]\n",
    "d = cross_tab_out[1,1]\n",
    "\n",
    "print('Out-sample good classification for negativ return - KNN: ',round(a/(a+b)*100,2),'%')\n",
    "print('Out-sample good classification for positiv return - KNN: ',round(d/(c+d)*100,2),'%')\n",
    "\n",
    "\n",
    "pd.crosstab(test_labels_clas,y_predict_test)"
   ]
  },
  {
   "cell_type": "code",
   "execution_count": 191,
   "id": "7a78e2c1",
   "metadata": {},
   "outputs": [
    {
     "data": {
      "image/png": "[encoded data removed]",
      "text/plain": [
       "<Figure size 360x360 with 1 Axes>"
      ]
     },
     "metadata": {
      "needs_background": "light"
     },
     "output_type": "display_data"
    }
   ],
   "source": [
    "conf_matrix = confusion_matrix(test_labels_clas, y_predict_test)\n",
    "\n",
    "fig, ax = plt.subplots(figsize=(5, 5))\n",
    "ax.matshow(conf_matrix, cmap=plt.cm.Oranges, alpha=0.3)\n",
    "for i in range(conf_matrix.shape[0]):\n",
    "    for j in range(conf_matrix.shape[1]):\n",
    "        ax.text(x=j, y=i,s=conf_matrix[i, j], va='center', ha='center')\n",
    " \n",
    "plt.xlabel('Predicted label')\n",
    "plt.ylabel('True label')\n",
    "plt.title('Confusion Matrix')\n",
    "matrice_confusion1 = plt.gcf() #pour exporter la matrice de confusion\n",
    "plt.show()"
   ]
  },
  {
   "cell_type": "code",
   "execution_count": 192,
   "id": "d6a4be99",
   "metadata": {},
   "outputs": [],
   "source": [
    "#exporter la matrice de confusion\n",
    "matrice_confusion1.savefig(\"Matrice_Confusion1.png\", dpi=300)"
   ]
  },
  {
   "cell_type": "markdown",
   "id": "aac2d4a6",
   "metadata": {},
   "source": [
    "##### Forêt aléatoire"
   ]
  },
  {
   "cell_type": "code",
   "execution_count": 193,
   "id": "42af6f16",
   "metadata": {},
   "outputs": [
    {
     "name": "stdout",
     "output_type": "stream",
     "text": [
      "Global accuracy with training sample - Random Forest:  0.4574780058651026\n"
     ]
    }
   ],
   "source": [
    "#Entrainement du modèle sur échantillon train :\n",
    "\n",
    "rf = RandomForestClassifier(criterion='gini',n_estimators=5, random_state=1,n_jobs=1)\n",
    "scaler.fit(train_features_clas)\n",
    "rf.fit(scaler.transform(train_features_clas), train_labels_clas)\n",
    "\n",
    "y_predict_train = rf.predict(train_features_clas)\n",
    "print('Global accuracy with training sample - Random Forest: ',accuracy_score(train_labels_clas,y_predict_train))"
   ]
  },
  {
   "cell_type": "code",
   "execution_count": 194,
   "id": "995e6935",
   "metadata": {},
   "outputs": [
    {
     "name": "stdout",
     "output_type": "stream",
     "text": [
      "Global accuracy with testing sample - Random Forest:  0.38596491228070173\n"
     ]
    }
   ],
   "source": [
    "#Résultat de la prédiction :\n",
    "y_predict_test = rf.predict(test_features_clas)\n",
    "print('Global accuracy with testing sample - Random Forest: ',accuracy_score(test_labels_clas,y_predict_test))"
   ]
  },
  {
   "cell_type": "code",
   "execution_count": 195,
   "id": "9ad4a5ac",
   "metadata": {},
   "outputs": [],
   "source": [
    "# optimisation de l'hyperparamètre par la cross validation :\n",
    "\n",
    "estimators = [x for x in range(1,50)]\n",
    "cv_scores = []\n",
    "for k in estimators:\n",
    "    rf = RandomForestClassifier(criterion='gini',n_estimators=k,random_state=1,n_jobs=1)\n",
    "    scores = cross_val_score(rf,scaler.transform(train_features_clas), train_labels_clas, cv=5) \n",
    "    cv_scores.append(scores.mean())"
   ]
  },
  {
   "cell_type": "code",
   "execution_count": 196,
   "id": "6fd8aa50",
   "metadata": {},
   "outputs": [
    {
     "name": "stdout",
     "output_type": "stream",
     "text": [
      "L estimateur optimal est :  37\n"
     ]
    }
   ],
   "source": [
    "print('L estimateur optimal est : ', estimators[np.array(cv_scores).argmax()])"
   ]
  },
  {
   "cell_type": "code",
   "execution_count": 197,
   "id": "710bae09",
   "metadata": {},
   "outputs": [
    {
     "name": "stdout",
     "output_type": "stream",
     "text": [
      "Global accuracy with training sample - Random Forest:  0.44574780058651026\n",
      "Global accuracy with testing sample - Random Forest:  0.39473684210526316\n"
     ]
    }
   ],
   "source": [
    "#Changement de l'hyperparamètre en prenant l'hyperparamètre optimal (37) :\n",
    "\n",
    "rf = RandomForestClassifier(criterion='gini',n_estimators=37, random_state=1,n_jobs=1)\n",
    "scaler.fit(train_features_clas)\n",
    "rf.fit(scaler.transform(train_features_clas), train_labels_clas)\n",
    "y_predict_train = rf.predict(train_features_clas)\n",
    "y_predict_test = rf.predict(test_features_clas)\n",
    "print('Global accuracy with training sample - Random Forest: ',accuracy_score(train_labels_clas, y_predict_train, normalize=True))\n",
    "print('Global accuracy with testing sample - Random Forest: ',accuracy_score(test_labels_clas, y_predict_test, normalize=True))"
   ]
  },
  {
   "cell_type": "code",
   "execution_count": 198,
   "id": "1e091549",
   "metadata": {
    "scrolled": true
   },
   "outputs": [
    {
     "name": "stdout",
     "output_type": "stream",
     "text": [
      "Out-sample good classification for negativ return - Random Forest:  95.65 %\n",
      "Out-sample good classification for positiv return - Random Forest:  1.47 %\n"
     ]
    },
    {
     "data": {
      "text/html": [
       "<div>\n",
       "<style scoped>\n",
       "    .dataframe tbody tr th:only-of-type {\n",
       "        vertical-align: middle;\n",
       "    }\n",
       "\n",
       "    .dataframe tbody tr th {\n",
       "        vertical-align: top;\n",
       "    }\n",
       "\n",
       "    .dataframe thead th {\n",
       "        text-align: right;\n",
       "    }\n",
       "</style>\n",
       "<table border=\"1\" class=\"dataframe\">\n",
       "  <thead>\n",
       "    <tr style=\"text-align: right;\">\n",
       "      <th>col_0</th>\n",
       "      <th>0.0</th>\n",
       "      <th>1.0</th>\n",
       "    </tr>\n",
       "    <tr>\n",
       "      <th>row_0</th>\n",
       "      <th></th>\n",
       "      <th></th>\n",
       "    </tr>\n",
       "  </thead>\n",
       "  <tbody>\n",
       "    <tr>\n",
       "      <th>0.0</th>\n",
       "      <td>44</td>\n",
       "      <td>2</td>\n",
       "    </tr>\n",
       "    <tr>\n",
       "      <th>1.0</th>\n",
       "      <td>67</td>\n",
       "      <td>1</td>\n",
       "    </tr>\n",
       "  </tbody>\n",
       "</table>\n",
       "</div>"
      ],
      "text/plain": [
       "col_0  0.0  1.0\n",
       "row_0          \n",
       "0.0     44    2\n",
       "1.0     67    1"
      ]
     },
     "execution_count": 198,
     "metadata": {},
     "output_type": "execute_result"
    }
   ],
   "source": [
    "#Matrice de confusion : \n",
    "\n",
    "cross_tab_out = pd.crosstab(test_labels_clas,y_predict_test).values\n",
    "\n",
    "a = cross_tab_out[0,0]\n",
    "b = cross_tab_out[0,1]\n",
    "c = cross_tab_out[1,0]\n",
    "d = cross_tab_out[1,1]\n",
    "\n",
    "print('Out-sample good classification for negativ return - Random Forest: ',round(a/(a+b)*100,2),'%')\n",
    "print('Out-sample good classification for positiv return - Random Forest: ',round(d/(c+d)*100,2),'%')\n",
    "\n",
    "\n",
    "pd.crosstab(test_labels_clas,y_predict_test)"
   ]
  },
  {
   "cell_type": "code",
   "execution_count": 199,
   "id": "16cadc37",
   "metadata": {},
   "outputs": [
    {
     "data": {
      "image/png": "[encoded data removed]",
      "text/plain": [
       "<Figure size 360x360 with 1 Axes>"
      ]
     },
     "metadata": {
      "needs_background": "light"
     },
     "output_type": "display_data"
    }
   ],
   "source": [
    "conf_matrix = confusion_matrix(test_labels_clas, y_predict_test)\n",
    "\n",
    "fig, ax = plt.subplots(figsize=(5, 5))\n",
    "ax.matshow(conf_matrix, cmap=plt.cm.Oranges, alpha=0.3)\n",
    "for i in range(conf_matrix.shape[0]):\n",
    "    for j in range(conf_matrix.shape[1]):\n",
    "        ax.text(x=j, y=i,s=conf_matrix[i, j], va='center', ha='center')\n",
    " \n",
    "plt.xlabel('Predicted label')\n",
    "plt.ylabel('True label')\n",
    "plt.title('Confusion Matrix')\n",
    "matrice_confusion2 = plt.gcf() #pour exporter la matrice de confusion\n",
    "plt.show()"
   ]
  },
  {
   "cell_type": "code",
   "execution_count": 200,
   "id": "37281d09",
   "metadata": {},
   "outputs": [],
   "source": [
    "#exporter la matrice de confusion\n",
    "matrice_confusion2.savefig(\"Matrice_Confusion2.png\", dpi=300)"
   ]
  },
  {
   "cell_type": "markdown",
   "id": "829f432c",
   "metadata": {},
   "source": [
    "##### Modèle Naive Bayes"
   ]
  },
  {
   "cell_type": "code",
   "execution_count": 201,
   "id": "fa726cd2",
   "metadata": {},
   "outputs": [
    {
     "name": "stdout",
     "output_type": "stream",
     "text": [
      "Global accuracy with training sample - Naive Bayes :  0.554\n",
      "Global accuracy with testing sample - Naive Bayes :  0.509\n"
     ]
    }
   ],
   "source": [
    "gnb = GaussianNB()\n",
    "gnb.fit(train_features_clas, train_labels_clas)\n",
    "y_predict_train=gnb.predict(train_features_clas)\n",
    "y_predict_test=gnb.predict(test_features_clas)\n",
    "print('Global accuracy with training sample - Naive Bayes : ' , round(accuracy_score(train_labels_clas, y_predict_train, normalize=True),3))\n",
    "print('Global accuracy with testing sample - Naive Bayes : ' , round(accuracy_score(test_labels_clas, y_predict_test, normalize=True),3))"
   ]
  },
  {
   "cell_type": "code",
   "execution_count": 202,
   "id": "037590b5",
   "metadata": {},
   "outputs": [
    {
     "data": {
      "image/png": "[encoded data removed]",
      "text/plain": [
       "<Figure size 360x360 with 1 Axes>"
      ]
     },
     "metadata": {
      "needs_background": "light"
     },
     "output_type": "display_data"
    }
   ],
   "source": [
    "conf_matrix = confusion_matrix(test_labels_clas, y_predict_test)\n",
    "\n",
    "fig, ax = plt.subplots(figsize=(5, 5))\n",
    "ax.matshow(conf_matrix, cmap=plt.cm.Oranges, alpha=0.3)\n",
    "for i in range(conf_matrix.shape[0]):\n",
    "    for j in range(conf_matrix.shape[1]):\n",
    "        ax.text(x=j, y=i,s=conf_matrix[i, j], va='center', ha='center')\n",
    " \n",
    "plt.xlabel('Predicted label')\n",
    "plt.ylabel('True label')\n",
    "plt.title('Confusion Matrix')\n",
    "matrice_confusion3 = plt.gcf() #pour exporter la matrice de confusion\n",
    "plt.show()"
   ]
  },
  {
   "cell_type": "code",
   "execution_count": 203,
   "id": "c608382d",
   "metadata": {},
   "outputs": [],
   "source": [
    "#exporter la matrice de confusion\n",
    "matrice_confusion3.savefig(\"Matrice_Confusion3.png\", dpi=300)"
   ]
  },
  {
   "cell_type": "markdown",
   "id": "efb20794",
   "metadata": {},
   "source": [
    "##### SVM"
   ]
  },
  {
   "cell_type": "code",
   "execution_count": 204,
   "id": "edcc213e",
   "metadata": {},
   "outputs": [
    {
     "name": "stdout",
     "output_type": "stream",
     "text": [
      "Global accuracy with training sample - SVM:  0.5483870967741935\n"
     ]
    }
   ],
   "source": [
    "#Entrainement du modèle sur échantillon train :\n",
    "\n",
    "SVM = SVC(C = 1, random_state = 1, kernel = 'linear')\n",
    "scaler.fit(train_features_clas)\n",
    "SVM.fit(scaler.transform(train_features_clas), train_labels_clas)\n",
    "\n",
    "y_predict_train = SVM.predict(train_features_clas)\n",
    "print('Global accuracy with training sample - SVM: ',accuracy_score(train_labels_clas, y_predict_train, normalize=True))"
   ]
  },
  {
   "cell_type": "code",
   "execution_count": 205,
   "id": "0c836ec4",
   "metadata": {},
   "outputs": [
    {
     "name": "stdout",
     "output_type": "stream",
     "text": [
      "Global accuracy with testing sample - SVM:  0.5964912280701754\n"
     ]
    }
   ],
   "source": [
    "#Prédiction du modèle :\n",
    "\n",
    "y_predict_test = SVM.predict(test_features_clas)\n",
    "print('Global accuracy with testing sample - SVM: ',accuracy_score(test_labels_clas,y_predict_test))"
   ]
  },
  {
   "cell_type": "code",
   "execution_count": 206,
   "id": "1a4b38d8",
   "metadata": {},
   "outputs": [],
   "source": [
    "# optimisation de l'hyperparamètre par la cross validation :\n",
    "\n",
    "C = [x for x in np.linspace(0.01,2,20)]\n",
    "cv_scores=[]\n",
    "for c in C:\n",
    "    model = SVC(C=c, random_state=1, kernel='linear')\n",
    "    scores = cross_val_score(model,scaler.transform(train_features_clas), train_labels_clas, cv=5) \n",
    "    cv_scores.append(scores.mean())"
   ]
  },
  {
   "cell_type": "code",
   "execution_count": 207,
   "id": "0637a3f4",
   "metadata": {},
   "outputs": [
    {
     "name": "stdout",
     "output_type": "stream",
     "text": [
      "L hyperparamètre optimal est :  0.01\n"
     ]
    }
   ],
   "source": [
    "print('L hyperparamètre optimal est : ', C[np.array(cv_scores).argmax()])"
   ]
  },
  {
   "cell_type": "code",
   "execution_count": 208,
   "id": "58ce443d",
   "metadata": {},
   "outputs": [
    {
     "name": "stdout",
     "output_type": "stream",
     "text": [
      "Global accuracy with training sample - SVM:  0.5483870967741935\n"
     ]
    }
   ],
   "source": [
    "#Changement de l'hyperparamètre en prenant l'hyperparamètre optimal (0.01) :\n",
    "\n",
    "SVM = SVC(C = 0.01, random_state = 1, kernel = 'linear')\n",
    "scaler.fit(train_features_clas)\n",
    "SVM.fit(scaler.transform(train_features_clas), train_labels_clas)\n",
    "y_predict_train = SVM.predict(train_features_clas)\n",
    "print('Global accuracy with training sample - SVM: ',accuracy_score(train_labels_clas,y_predict_train))"
   ]
  },
  {
   "cell_type": "code",
   "execution_count": 209,
   "id": "7e90cfae",
   "metadata": {},
   "outputs": [
    {
     "name": "stdout",
     "output_type": "stream",
     "text": [
      "Global accuracy with testing sample - SVM:  0.5964912280701754\n"
     ]
    }
   ],
   "source": [
    "#Prédiction avec hyperparamètre optimal :\n",
    "\n",
    "y_predict_test = SVM.predict(test_features_clas)\n",
    "print('Global accuracy with testing sample - SVM: ',accuracy_score(test_labels_clas,y_predict_test))"
   ]
  },
  {
   "cell_type": "code",
   "execution_count": 210,
   "id": "9dd85a58",
   "metadata": {},
   "outputs": [
    {
     "data": {
      "image/png": "[encoded data removed]",
      "text/plain": [
       "<Figure size 360x360 with 1 Axes>"
      ]
     },
     "metadata": {
      "needs_background": "light"
     },
     "output_type": "display_data"
    }
   ],
   "source": [
    "conf_matrix = confusion_matrix(test_labels_clas, y_predict_test)\n",
    "\n",
    "fig, ax = plt.subplots(figsize=(5, 5))\n",
    "ax.matshow(conf_matrix, cmap=plt.cm.Oranges, alpha=0.3)\n",
    "for i in range(conf_matrix.shape[0]):\n",
    "    for j in range(conf_matrix.shape[1]):\n",
    "        ax.text(x=j, y=i,s=conf_matrix[i, j], va='center', ha='center')\n",
    " \n",
    "plt.xlabel('Predicted label')\n",
    "plt.ylabel('True label')\n",
    "plt.title('Confusion Matrix')\n",
    "matrice_confusion4 = plt.gcf() #pour exporter la matrice de confusion\n",
    "plt.show()"
   ]
  },
  {
   "cell_type": "code",
   "execution_count": 211,
   "id": "0c5171e7",
   "metadata": {},
   "outputs": [],
   "source": [
    "#exporter la matrice de confusion\n",
    "matrice_confusion3.savefig(\"Matrice_Confusion3.png\", dpi=300)"
   ]
  },
  {
   "cell_type": "markdown",
   "id": "e91678bc",
   "metadata": {},
   "source": [
    "##### 2.4.2) Sans la variable inflation"
   ]
  },
  {
   "cell_type": "markdown",
   "id": "61616b93",
   "metadata": {},
   "source": [
    "##### Modèle KNN"
   ]
  },
  {
   "cell_type": "code",
   "execution_count": 212,
   "id": "1b0109cf",
   "metadata": {},
   "outputs": [],
   "source": [
    "#On sépare label et features (en ne prenant pas en compte l'inflation cette fois-ci)\n",
    "\n",
    "labels_2 = np.array(df_clas.Apple)\n",
    "features_2 = np.array(df_clas[['Treasury_Yield','Federal_Funds_Rate', 'SP500']])"
   ]
  },
  {
   "cell_type": "code",
   "execution_count": 213,
   "id": "b91d4e38",
   "metadata": {},
   "outputs": [],
   "source": [
    "#On sépare de nouveau le dataframe en échantillon train et test\n",
    "\n",
    "train_features_2, test_features_2, train_labels_2, test_labels_2 = train_test_split(\n",
    "    features_2, labels_2, test_size = 0.25, random_state = 111)"
   ]
  },
  {
   "cell_type": "code",
   "execution_count": 214,
   "id": "3fc24403",
   "metadata": {},
   "outputs": [
    {
     "data": {
      "text/plain": [
       "KNeighborsClassifier(n_jobs=12, n_neighbors=14, weights='distance')"
      ]
     },
     "execution_count": 214,
     "metadata": {},
     "output_type": "execute_result"
    }
   ],
   "source": [
    "#Entrainement du modèle :\n",
    "\n",
    "knn = KNeighborsClassifier(n_neighbors=14,weights='distance',n_jobs=12)\n",
    "scaler.fit(train_features_2)\n",
    "knn.fit(scaler.transform(train_features_2), train_labels_2)"
   ]
  },
  {
   "cell_type": "code",
   "execution_count": 215,
   "id": "5379e5e8",
   "metadata": {},
   "outputs": [
    {
     "data": {
      "text/plain": [
       "0.4298245614035088"
      ]
     },
     "execution_count": 215,
     "metadata": {},
     "output_type": "execute_result"
    }
   ],
   "source": [
    "#Prédiction :\n",
    "y_predict_test_2 = knn.predict(test_features_2)\n",
    "accuracy_score(test_labels_2,y_predict_test_2)"
   ]
  },
  {
   "cell_type": "code",
   "execution_count": 216,
   "id": "6c7c40a6",
   "metadata": {},
   "outputs": [],
   "source": [
    "#Optimisation de l'hyperparamètre\n",
    "\n",
    "neighbors = [x for x in range(1,50)]\n",
    "cv_scores = []\n",
    "for k in neighbors:\n",
    "    knn = KNeighborsClassifier(n_neighbors=k)\n",
    "    scores = cross_val_score(knn,scaler.transform(train_features_2), train_labels_2, cv=5) \n",
    "    cv_scores.append(scores.mean())"
   ]
  },
  {
   "cell_type": "code",
   "execution_count": 217,
   "id": "5ab465b2",
   "metadata": {},
   "outputs": [
    {
     "name": "stdout",
     "output_type": "stream",
     "text": [
      "Le nombre de voisins optimal est :  20\n"
     ]
    }
   ],
   "source": [
    "print('Le nombre de voisins optimal est : ', neighbors[np.array(cv_scores).argmax()])"
   ]
  },
  {
   "cell_type": "code",
   "execution_count": 218,
   "id": "b31835dc",
   "metadata": {},
   "outputs": [
    {
     "name": "stdout",
     "output_type": "stream",
     "text": [
      "Global accuracy - KNN:  0.5964912280701754\n"
     ]
    }
   ],
   "source": [
    "#Prédiction optimisée :\n",
    "\n",
    "knn = KNeighborsClassifier(n_neighbors=20)\n",
    "knn.fit(scaler.transform(train_features_2),train_labels_2)\n",
    "y_predict_test_2=knn.predict(scaler.transform(test_features_2))\n",
    "print('Global accuracy - KNN: ',accuracy_score(test_labels_2, y_predict_test_2, normalize=True))"
   ]
  },
  {
   "cell_type": "markdown",
   "id": "9039cec4",
   "metadata": {},
   "source": [
    "##### Random Forest"
   ]
  },
  {
   "cell_type": "code",
   "execution_count": 219,
   "id": "63a5bacc",
   "metadata": {},
   "outputs": [
    {
     "data": {
      "text/plain": [
       "RandomForestClassifier(n_estimators=5, n_jobs=1, random_state=1)"
      ]
     },
     "execution_count": 219,
     "metadata": {},
     "output_type": "execute_result"
    }
   ],
   "source": [
    "#Entrainement du modèle :\n",
    "\n",
    "rf = RandomForestClassifier(criterion='gini',n_estimators=5, random_state=1,n_jobs=1)\n",
    "scaler.fit(train_features_2)\n",
    "rf.fit(scaler.transform(train_features_2), train_labels_2)"
   ]
  },
  {
   "cell_type": "code",
   "execution_count": 220,
   "id": "6ed393ba",
   "metadata": {},
   "outputs": [
    {
     "data": {
      "text/plain": [
       "0.4298245614035088"
      ]
     },
     "execution_count": 220,
     "metadata": {},
     "output_type": "execute_result"
    }
   ],
   "source": [
    "#Résultat de la prédiction\n",
    "\n",
    "y_predict_test_2 = rf.predict(test_features_2)\n",
    "accuracy_score(test_labels_2,y_predict_test_2)"
   ]
  },
  {
   "cell_type": "code",
   "execution_count": 221,
   "id": "4d4a71c2",
   "metadata": {},
   "outputs": [],
   "source": [
    "# optimisation de l'hyperparamètre n_neighbors par la cross validation\n",
    "estimators = [x for x in range(1,50)]\n",
    "cv_scores = []\n",
    "for k in estimators:\n",
    "    rf = RandomForestClassifier(criterion='gini',n_estimators=k,random_state=1,n_jobs=1)\n",
    "    scores = cross_val_score(rf,scaler.transform(train_features_2), train_labels_2, cv=5) \n",
    "    cv_scores.append(scores.mean())"
   ]
  },
  {
   "cell_type": "code",
   "execution_count": 222,
   "id": "f7cde424",
   "metadata": {},
   "outputs": [
    {
     "name": "stdout",
     "output_type": "stream",
     "text": [
      "L estimateur optimal est :  1\n"
     ]
    }
   ],
   "source": [
    "print('L estimateur optimal est : ', estimators[np.array(cv_scores).argmax()])"
   ]
  },
  {
   "cell_type": "code",
   "execution_count": 223,
   "id": "380fc66d",
   "metadata": {},
   "outputs": [
    {
     "name": "stdout",
     "output_type": "stream",
     "text": [
      "Global accuracy - Random Forest:  0.4298245614035088\n"
     ]
    }
   ],
   "source": [
    "#Changement de l'hyperparamètre en prenant l'hyperparamètre optimal (1) :\n",
    "rf = RandomForestClassifier(criterion='gini',n_estimators=1, random_state=1,n_jobs=1)\n",
    "scaler.fit(train_features_2)\n",
    "rf.fit(scaler.transform(train_features_2), train_labels_2)\n",
    "\n",
    "y_predict_test_2 = rf.predict(test_features_2)\n",
    "print('Global accuracy - Random Forest: ',accuracy_score(test_labels_2, y_predict_test_2, normalize=True))"
   ]
  },
  {
   "cell_type": "markdown",
   "id": "02e3531a",
   "metadata": {},
   "source": [
    "##### Naive Bayes"
   ]
  },
  {
   "cell_type": "code",
   "execution_count": 224,
   "id": "fe44a4d6",
   "metadata": {},
   "outputs": [
    {
     "name": "stdout",
     "output_type": "stream",
     "text": [
      "Global accuracy - Naive Bayes :  0.544\n"
     ]
    }
   ],
   "source": [
    "gnb = GaussianNB()\n",
    "gnb.fit(train_features_2, train_labels_2)\n",
    "y_predict_test_2=gnb.predict(test_features_2)\n",
    "print('Global accuracy - Naive Bayes : ' , round(accuracy_score(test_labels_2, y_predict_test_2, normalize=True),3))"
   ]
  },
  {
   "cell_type": "markdown",
   "id": "796ea7bd",
   "metadata": {},
   "source": [
    "##### SVM"
   ]
  },
  {
   "cell_type": "code",
   "execution_count": 225,
   "id": "aefff247",
   "metadata": {},
   "outputs": [
    {
     "data": {
      "text/plain": [
       "SVC(C=1, kernel='linear', random_state=1)"
      ]
     },
     "execution_count": 225,
     "metadata": {},
     "output_type": "execute_result"
    }
   ],
   "source": [
    "#Entrainement du modèle :\n",
    "\n",
    "SVM = SVC(C = 1, random_state = 1, kernel = 'linear')\n",
    "scaler.fit(train_features_2)\n",
    "SVM.fit(scaler.transform(train_features_2), train_labels_2)"
   ]
  },
  {
   "cell_type": "code",
   "execution_count": 226,
   "id": "d4478991",
   "metadata": {},
   "outputs": [
    {
     "data": {
      "text/plain": [
       "0.5526315789473685"
      ]
     },
     "execution_count": 226,
     "metadata": {},
     "output_type": "execute_result"
    }
   ],
   "source": [
    "#Prédiction :\n",
    "\n",
    "y_predict_test_2 = SVM.predict(test_features_2)\n",
    "accuracy_score(test_labels_2,y_predict_test_2)"
   ]
  },
  {
   "cell_type": "code",
   "execution_count": 227,
   "id": "f5cc333e",
   "metadata": {},
   "outputs": [],
   "source": [
    "#Optimisation de l'hyperparamètre :\n",
    "\n",
    "C = [x for x in np.linspace(0.01,2,20)]\n",
    "cv_scores=[]\n",
    "for c in C:\n",
    "    model = SVC(C=c, random_state=1, kernel='linear')\n",
    "    scores = cross_val_score(model,scaler.transform(train_features_2), train_labels_2, cv=5) \n",
    "    cv_scores.append(scores.mean())"
   ]
  },
  {
   "cell_type": "code",
   "execution_count": 228,
   "id": "60e91ba6",
   "metadata": {},
   "outputs": [
    {
     "name": "stdout",
     "output_type": "stream",
     "text": [
      "L hyperparamètre optimal est :  0.01\n"
     ]
    }
   ],
   "source": [
    "print('L hyperparamètre optimal est : ', C[np.array(cv_scores).argmax()])"
   ]
  },
  {
   "cell_type": "code",
   "execution_count": 229,
   "id": "fbe0c983",
   "metadata": {},
   "outputs": [
    {
     "data": {
      "text/plain": [
       "0.5701754385964912"
      ]
     },
     "execution_count": 229,
     "metadata": {},
     "output_type": "execute_result"
    }
   ],
   "source": [
    "#Prédiction optimisée :\n",
    "\n",
    "SVM = SVC(C = 0.01, random_state = 1, kernel = 'linear')\n",
    "scaler.fit(train_features_2)\n",
    "SVM.fit(scaler.transform(train_features_2), train_labels_2)\n",
    "\n",
    "y_predict_test_2 = SVM.predict(test_features_2)\n",
    "accuracy_score(test_labels_2,y_predict_test_2)"
   ]
  },
  {
   "cell_type": "markdown",
   "id": "537cca56",
   "metadata": {},
   "source": [
    "### <u>3) Régression<u>"
   ]
  },
  {
   "cell_type": "markdown",
   "id": "7e99bcdd",
   "metadata": {},
   "source": [
    "#### 3.1) Séparation label et features"
   ]
  },
  {
   "cell_type": "code",
   "execution_count": 230,
   "id": "f04d68ed",
   "metadata": {},
   "outputs": [],
   "source": [
    "#On sépare les variables explicatives et la variable expliquée\n",
    "\n",
    "labels_reg = np.array(df_reg.Apple2)\n",
    "features_reg = np.array(df_reg[['Treasury_Yield','Federal_Funds_Rate', 'Inflation', 'SP500']])"
   ]
  },
  {
   "cell_type": "markdown",
   "id": "1ce97200",
   "metadata": {},
   "source": [
    "#### 3.2) Séparation du dataframe en échantillon train / test"
   ]
  },
  {
   "cell_type": "code",
   "execution_count": 231,
   "id": "24202426",
   "metadata": {},
   "outputs": [],
   "source": [
    "train_features_reg, test_features_reg, train_labels_reg, test_labels_reg = train_test_split(\n",
    "    features_reg, labels_reg, test_size = 0.25, random_state = 42)"
   ]
  },
  {
   "cell_type": "markdown",
   "id": "ba93808f",
   "metadata": {},
   "source": [
    "#### 3.3) Modèles de régression"
   ]
  },
  {
   "cell_type": "markdown",
   "id": "6614c63d",
   "metadata": {},
   "source": [
    "##### Lasso"
   ]
  },
  {
   "cell_type": "code",
   "execution_count": 232,
   "id": "5f1b72e4",
   "metadata": {},
   "outputs": [
    {
     "name": "stdout",
     "output_type": "stream",
     "text": [
      "[ 9.76919845 -7.04073504  0.          0.03701008]\n",
      "MSE train: 18.182, test: 18.252\n",
      "R^2 train: 0.846, test: 0.875\n"
     ]
    }
   ],
   "source": [
    "lasso = Lasso(alpha=0.1)\n",
    "\n",
    "lasso.fit(train_features_reg, train_labels_reg)\n",
    "\n",
    "y_train_pred = lasso.predict(train_features_reg)\n",
    "\n",
    "y_test_pred = lasso.predict(test_features_reg)\n",
    "\n",
    "print(lasso.coef_)\n",
    "\n",
    "\n",
    "print('MSE train: %.3f, test: %.3f' % (\n",
    "\n",
    "        mean_absolute_percentage_error(train_labels_reg, y_train_pred),\n",
    "\n",
    "        mean_absolute_percentage_error(test_labels_reg, y_test_pred)))\n",
    "\n",
    "print('R^2 train: %.3f, test: %.3f' % (\n",
    "\n",
    "        r2_score(train_labels_reg, y_train_pred),\n",
    "\n",
    "        r2_score(test_labels_reg, y_test_pred)))"
   ]
  },
  {
   "cell_type": "code",
   "execution_count": 233,
   "id": "c4ac56b3",
   "metadata": {},
   "outputs": [],
   "source": [
    "#optimisation de l'hyperparamètre par la cross validation\n",
    "\n",
    "alpha= [x for x in np.linspace(0.1,5,20)]\n",
    "cv_scores = []\n",
    "for c in alpha:\n",
    "    lasso = Lasso(alpha=c)\n",
    "    scores = cross_val_score(lasso,train_features_reg, train_labels_reg, cv=5) # cross validation\n",
    "    cv_scores.append(scores.mean())"
   ]
  },
  {
   "cell_type": "code",
   "execution_count": 244,
   "id": "fa1c847c",
   "metadata": {},
   "outputs": [
    {
     "name": "stdout",
     "output_type": "stream",
     "text": [
      "L hyperparamètre optimal (alpha) est :  0.1\n"
     ]
    }
   ],
   "source": [
    "print('L hyperparamètre optimal (alpha) est : ', alpha[np.array(cv_scores).argmax()])"
   ]
  },
  {
   "cell_type": "code",
   "execution_count": 235,
   "id": "b6ab7d78",
   "metadata": {
    "scrolled": false
   },
   "outputs": [
    {
     "data": {
      "image/png": "[encoded data removed]",
      "text/plain": [
       "<Figure size 432x288 with 1 Axes>"
      ]
     },
     "metadata": {
      "needs_background": "light"
     },
     "output_type": "display_data"
    }
   ],
   "source": [
    "plt.scatter(train_labels_reg, y_train_pred, label = 'Lasso')\n",
    "plt.plot(train_labels_reg,train_labels_reg)\n",
    "plt.title('VISUAL COMPARISON WITH TRAINING SET')\n",
    "plt.xlabel('Real values')\n",
    "plt.ylabel('Predicted values')\n",
    "plt.legend(loc='lower right')\n",
    "fig8 = plt.gcf() #pour exporter le graphique\n",
    "plt.show()"
   ]
  },
  {
   "cell_type": "code",
   "execution_count": 236,
   "id": "73d7495d",
   "metadata": {},
   "outputs": [],
   "source": [
    "#exporter le graphique\n",
    "fig8.savefig(\"Graph8.png\", dpi=300)"
   ]
  },
  {
   "cell_type": "code",
   "execution_count": 237,
   "id": "ee8d5187",
   "metadata": {},
   "outputs": [],
   "source": [
    "def plot_errors(lambdas, train_errors, test_errors, title):\n",
    "    plt.figure(figsize=(16, 9))\n",
    "    plt.plot(lambdas, train_errors, label=\"train\")\n",
    "    plt.plot(lambdas, test_errors, label=\"test\")\n",
    "    plt.xlabel(\"$\\\\lambda$\", fontsize=14)\n",
    "    plt.ylabel(\"MSE\", fontsize=14)\n",
    "    plt.title(title, fontsize=20)\n",
    "    plt.legend(fontsize=14)\n",
    "    plt.show()"
   ]
  },
  {
   "cell_type": "code",
   "execution_count": 238,
   "id": "08fb0b75",
   "metadata": {},
   "outputs": [],
   "source": [
    "def evaluate_model(Model, lambdas):\n",
    "    training_errors = [] # we will store the error on the training set, for using each different lambda\n",
    "    testing_errors = [] # and the error on the testing set\n",
    "    for l in lambdas:\n",
    "        model = Model(alpha=l, max_iter=1000) # we allow max number of iterations until the model converges\n",
    "        model.fit(train_features_reg, train_labels_reg)\n",
    "\n",
    "        training_predictions = model.predict(train_features_reg)\n",
    "        training_mse = mean_squared_error(train_labels_reg, training_predictions)\n",
    "        training_errors.append(training_mse)\n",
    "\n",
    "        testing_predictions = model.predict(test_features_reg)\n",
    "        testing_mse = mean_squared_error(test_labels_reg, testing_predictions)\n",
    "        testing_errors.append(testing_mse)\n",
    "    return training_errors, testing_errors"
   ]
  },
  {
   "cell_type": "code",
   "execution_count": 239,
   "id": "7625fb73",
   "metadata": {},
   "outputs": [
    {
     "data": {
      "text/plain": [
       "<Figure size 432x288 with 0 Axes>"
      ]
     },
     "metadata": {},
     "output_type": "display_data"
    },
    {
     "data": {
      "image/png": "[encoded data removed]",
      "text/plain": [
       "<Figure size 1152x648 with 1 Axes>"
      ]
     },
     "metadata": {
      "needs_background": "light"
     },
     "output_type": "display_data"
    }
   ],
   "source": [
    "import warnings\n",
    "warnings.filterwarnings('ignore')\n",
    "# let's generate different values for lambda from 0 (no-regularization) and 10 (too much regularization)\n",
    "lambdas = np.arange(0, 10, step=0.1)\n",
    "\n",
    "lasso_train, lasso_test = evaluate_model(Lasso, lambdas)\n",
    "fig9 = plt.gcf() #pour exporter le graphique\n",
    "plot_errors(lambdas, lasso_train, lasso_test, \"Lasso\")"
   ]
  },
  {
   "cell_type": "code",
   "execution_count": 240,
   "id": "3c33e9a8",
   "metadata": {},
   "outputs": [],
   "source": [
    "#exporter le graphique\n",
    "fig9.savefig(\"Graph9.png\", dpi=300)"
   ]
  },
  {
   "cell_type": "markdown",
   "id": "415ec2d5",
   "metadata": {},
   "source": [
    "##### Random Forest"
   ]
  },
  {
   "cell_type": "code",
   "execution_count": 241,
   "id": "0d4e0620",
   "metadata": {},
   "outputs": [
    {
     "name": "stdout",
     "output_type": "stream",
     "text": [
      "MSE train: 0.242, test: 0.290\n",
      "R^2 train: 0.991, test: 0.978\n"
     ]
    }
   ],
   "source": [
    "randomForest = RandomForestRegressor(max_depth = 15, min_samples_leaf = 5, min_samples_split = 10, n_estimators = 150)\n",
    "\n",
    "randomForest.fit(train_features_reg, train_labels_reg)\n",
    "\n",
    "y_train_pred = randomForest.predict(train_features_reg)\n",
    "\n",
    "y_test_pred = randomForest.predict(test_features_reg)\n",
    "\n",
    "\n",
    "print('MSE train: %.3f, test: %.3f' % (\n",
    "\n",
    "        mean_absolute_percentage_error(train_labels_reg, y_train_pred),\n",
    "\n",
    "        mean_absolute_percentage_error(test_labels_reg, y_test_pred)))\n",
    "\n",
    "print('R^2 train: %.3f, test: %.3f' % (\n",
    "\n",
    "        r2_score(train_labels_reg, y_train_pred),\n",
    "\n",
    "        r2_score(test_labels_reg, y_test_pred)))"
   ]
  },
  {
   "cell_type": "code",
   "execution_count": 242,
   "id": "aba2baa8",
   "metadata": {},
   "outputs": [
    {
     "data": {
      "image/png": "[encoded data removed]",
      "text/plain": [
       "<Figure size 432x288 with 1 Axes>"
      ]
     },
     "metadata": {
      "needs_background": "light"
     },
     "output_type": "display_data"
    }
   ],
   "source": [
    "plt.scatter(train_labels_reg, y_train_pred, label = 'randomForest')\n",
    "plt.plot(train_labels_reg,train_labels_reg)\n",
    "plt.title('VISUAL COMPARISON WITH TRAINING SET')\n",
    "plt.xlabel('Real values')\n",
    "plt.ylabel('Predicted values')\n",
    "plt.legend(loc='lower right')\n",
    "fig10 = plt.gcf() #pour exporter le graphique\n",
    "plt.show()"
   ]
  },
  {
   "cell_type": "code",
   "execution_count": 243,
   "id": "9ea079b8",
   "metadata": {},
   "outputs": [],
   "source": [
    "#exporter le graphique\n",
    "fig10.savefig(\"Graph10.png\", dpi=300)"
   ]
  }
 ],
 "metadata": {
  "kernelspec": {
   "display_name": "Python 3 (ipykernel)",
   "language": "python",
   "name": "python3"
  },
  "language_info": {
   "codemirror_mode": {
    "name": "ipython",
    "version": 3
   },
   "file_extension": ".py",
   "mimetype": "text/x-python",
   "name": "python",
   "nbconvert_exporter": "python",
   "pygments_lexer": "ipython3",
   "version": "3.8.11"
  }
 },
 "nbformat": 4,
 "nbformat_minor": 5
}
